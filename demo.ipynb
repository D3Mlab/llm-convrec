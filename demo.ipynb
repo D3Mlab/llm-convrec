{
 "cells": [
  {
   "cell_type": "markdown",
   "metadata": {},
   "source": [
    "### Install packages."
   ]
  },
  {
   "cell_type": "code",
   "execution_count": null,
   "metadata": {},
   "outputs": [],
   "source": [
    "%pip install -r requirements.txt"
   ]
  },
  {
   "cell_type": "markdown",
   "metadata": {},
   "source": [
    "### Please input your OpenAI API key.\n",
    "\n",
    "To get OpenAI API Key go to https://platform.openai.com/playground and after logging into your account, click on 'View API keys'.\n",
    "\n",
    "**Note that the system cannot be used without entering your credit card information to your OpenAI account since the system interactions exceed the free API limitations. A typical conversation costs < $0.02.**\n",
    "\n",
    "Your API key will only be accessible locally to this jupyter notebook and will not be stored or shared with others."
   ]
  },
  {
   "cell_type": "code",
   "execution_count": null,
   "metadata": {},
   "outputs": [],
   "source": [
    "from getpass import getpass\n",
    "global openai_api_key\n",
    "openai_api_key = getpass(\"Enter your OpenAI API key:\")"
   ]
  },
  {
   "cell_type": "markdown",
   "metadata": {},
   "source": [
    "### Run the conversational recommendation system."
   ]
  },
  {
   "cell_type": "code",
   "execution_count": null,
   "metadata": {},
   "outputs": [],
   "source": [
    "import gradio as gr\n",
    "import yaml\n",
    "import time\n",
    "from conv_rec_system import ConvRecSystem\n",
    "from domain_specific.classes.restaurants.geocoding.nominatim_wrapper import NominatimWrapper\n",
    "from domain_specific.classes.restaurants.location_constraint_merger import LocationConstraintMerger\n",
    "from domain_specific.classes.restaurants.location_status import LocationStatus\n",
    "from domain_specific.classes.restaurants.location_filter import LocationFilter\n",
    "from information_retriever.filter.word_in_filter import WordInFilter\n",
    "\n",
    "with open(\"system_config.yaml\") as f:\n",
    "    system_config = yaml.load(f, Loader=yaml.FullLoader)\n",
    "system_config['PATH_TO_DOMAIN_CONFIGS'] = f'domain_specific/configs/restaurant_configs'\n",
    "\n",
    "with open(f\"{system_config['PATH_TO_DOMAIN_CONFIGS']}/domain_specific_config.yaml\") as f:\n",
    "    domain_specific_config = yaml.load(f, Loader=yaml.FullLoader)\n",
    "            \n",
    "    geocoder = NominatimWrapper(location_bias=domain_specific_config.get(\"LOCATION_BIAS\"))\n",
    "\n",
    "    if geocoder.geocode(\"edmonton\") is None:\n",
    "        user_filter_objects = [WordInFilter([\"location\"], \"address\")]\n",
    "\n",
    "        conv_rec_system = ConvRecSystem(\n",
    "            system_config, openai_api_key,\n",
    "            user_defined_filter=user_filter_objects, user_interface_str=\"demo\")\n",
    "    else:\n",
    "        user_constraint_merger_objects = [LocationConstraintMerger(geocoder)]\n",
    "        user_constraint_status_objects = [LocationStatus(geocoder)]\n",
    "        user_filter_objects = [LocationFilter(\"location\", [\"latitude\", \"longitude\"], 3, geocoder)]\n",
    "\n",
    "        conv_rec_system = ConvRecSystem(\n",
    "            system_config, openai_api_key, user_defined_constraint_mergers=user_constraint_merger_objects,\n",
    "            user_constraint_status_objects=user_constraint_status_objects,\n",
    "            user_defined_filter=user_filter_objects, user_interface_str=\"demo\")\n",
    "\n",
    "with open(\"chatbot.css\", \"r\", encoding=\"utf-8\") as f:\n",
    "    chatbot_css = f.read()\n",
    "\n",
    "with gr.Blocks(css=chatbot_css) as demo:\n",
    "    gr.Markdown(\"# LLM Convrec\")\n",
    "    history = gr.State([[None, conv_rec_system.init_msg]])\n",
    "    with gr.Row():\n",
    "        chatbot = gr.Chatbot(\n",
    "            value=[[None, conv_rec_system.init_msg]], show_label=False, elem_id=\"llm_conv_rec\")\n",
    "    with gr.Row(equal_height=True):\n",
    "        with gr.Column(scale=8):\n",
    "            user_input = gr.Textbox(show_label=False, placeholder=\"Enter text\", container=False)\n",
    "        with gr.Column(min_width=70, scale=1):\n",
    "            send_button = gr.Button(value=\"Send\")\n",
    "        with gr.Column(min_width=70, scale=3):\n",
    "            new_conv_button = gr.Button(value=\"New Conversation\")\n",
    "\n",
    "    def display_user_input(user_message, chatbot, history) -> tuple[gr.Textbox, gr.Chatbot, gr.State]:\n",
    "        \"\"\"\n",
    "        Display user input.\n",
    "\n",
    "        :param user_message: user input\n",
    "        :param chatbot: chatbot that display chat history\n",
    "        :param history: chat history\n",
    "        :return: a tuple of textbox,chatbot, and state that are updated\n",
    "        \"\"\"\n",
    "        chatbot[-1][1] = history[-1][1]\n",
    "        return \"\", chatbot + [[user_message, None]], history + [[user_message, None]]\n",
    "\n",
    "    def display_recommender_response(chatbot, history) -> tuple[gr.Chatbot, gr.State]:\n",
    "        \"\"\"\n",
    "        Display recommender's response.\n",
    "\n",
    "        :param chatbot: chatbot that display chat history\n",
    "        :param history: chat history\n",
    "        :return: a tuple of chatbot and state that are updated\n",
    "        \"\"\"\n",
    "        bot_message = conv_rec_system.get_response(chatbot[-1][0])\n",
    "        history[-1][1] = bot_message\n",
    "        chatbot[-1][1] = \"\"\n",
    "        for character in bot_message:\n",
    "            chatbot[-1][1] += character\n",
    "            time.sleep(0.015)\n",
    "            yield chatbot, history\n",
    "\n",
    "    def reset_state() -> tuple[gr.Textbox, gr.Chatbot, gr.State]:\n",
    "        \"\"\"\n",
    "        Reset state.\n",
    "\n",
    "        :return: a tuple of textbox, chatbot, and state that are reset\n",
    "        \"\"\"\n",
    "        conv_rec_system.dialogue_manager.state_manager.reset_state()\n",
    "        return \"\", [[None, conv_rec_system.init_msg]], [[None, conv_rec_system.init_msg]]\n",
    "\n",
    "    user_input.submit(\n",
    "        fn=display_user_input, inputs=[user_input, chatbot, history],\n",
    "        outputs=[user_input, chatbot, history], queue=True).then(\n",
    "            fn=display_recommender_response, inputs=[chatbot, history], outputs=[chatbot, history])\n",
    "\n",
    "    send_button.click(\n",
    "        fn=display_user_input, inputs=[user_input, chatbot, history],\n",
    "        outputs=[user_input, chatbot, history], queue=True).then(\n",
    "            fn=display_recommender_response, inputs=[chatbot, history], outputs=[chatbot, history])\n",
    "\n",
    "    new_conv_button.click(fn=reset_state, outputs=[user_input, chatbot, history], queue=True)\n",
    "\n",
    "\n",
    "if __name__ == \"__main__\":\n",
    "    demo.queue()\n",
    "    demo.launch()"
   ]
  }
 ],
 "metadata": {
  "kernelspec": {
   "display_name": "venv",
   "language": "python",
   "name": "python3"
  },
  "language_info": {
   "codemirror_mode": {
    "name": "ipython",
    "version": 3
   },
   "file_extension": ".py",
   "mimetype": "text/x-python",
   "name": "python",
   "nbconvert_exporter": "python",
   "pygments_lexer": "ipython3",
   "version": "3.10.10"
  },
  "orig_nbformat": 4
 },
 "nbformat": 4,
 "nbformat_minor": 2
}
