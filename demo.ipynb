{
 "cells": [
  {
   "cell_type": "code",
   "execution_count": 1,
   "metadata": {},
   "outputs": [
    {
     "name": "stdout",
     "output_type": "stream",
     "text": [
      "Note: you may need to restart the kernel to use updated packages.\n"
     ]
    },
    {
     "name": "stderr",
     "output_type": "stream",
     "text": [
      "ERROR: Could not open requirements file: [Errno 2] No such file or directory: '../requirements.txt'\n",
      "\n",
      "[notice] A new release of pip available: 22.3.1 -> 23.1.2\n",
      "[notice] To update, run: python.exe -m pip install --upgrade pip\n"
     ]
    }
   ],
   "source": [
    "%pip install -r requirements.txt"
   ]
  },
  {
   "cell_type": "code",
   "execution_count": 24,
   "metadata": {},
   "outputs": [
    {
     "name": "stderr",
     "output_type": "stream",
     "text": [
      "c:\\Users\\chanm\\Documents\\GitHub\\llm-convrec\\venv\\lib\\site-packages\\gradio\\networking.py:143: ResourceWarning: unclosed <socket.socket fd=6620, family=AddressFamily.AF_INET, type=SocketKind.SOCK_STREAM, proto=0>\n",
      "  s = socket.socket()\n",
      "ResourceWarning: Enable tracemalloc to get the object allocation traceback\n",
      "c:\\Users\\chanm\\Documents\\GitHub\\llm-convrec\\venv\\lib\\site-packages\\gradio\\networking.py:143: ResourceWarning: unclosed <socket.socket fd=7808, family=AddressFamily.AF_INET, type=SocketKind.SOCK_STREAM, proto=0>\n",
      "  s = socket.socket()\n",
      "ResourceWarning: Enable tracemalloc to get the object allocation traceback\n",
      "c:\\Users\\chanm\\Documents\\GitHub\\llm-convrec\\venv\\lib\\site-packages\\gradio\\networking.py:143: ResourceWarning: unclosed <socket.socket fd=7840, family=AddressFamily.AF_INET, type=SocketKind.SOCK_STREAM, proto=0>\n",
      "  s = socket.socket()\n",
      "ResourceWarning: Enable tracemalloc to get the object allocation traceback\n"
     ]
    },
    {
     "name": "stdout",
     "output_type": "stream",
     "text": [
      "Running on local URL:  http://127.0.0.1:7882\n",
      "\n",
      "To create a public link, set `share=True` in `launch()`.\n"
     ]
    },
    {
     "data": {
      "text/html": [
       "<div><iframe src=\"http://127.0.0.1:7882/\" width=\"100%\" height=\"500\" allow=\"autoplay; camera; microphone; clipboard-read; clipboard-write;\" frameborder=\"0\" allowfullscreen></iframe></div>"
      ],
      "text/plain": [
       "<IPython.core.display.HTML object>"
      ]
     },
     "metadata": {},
     "output_type": "display_data"
    }
   ],
   "source": [
    "import gradio as gr\n",
    "\n",
    "llm = \"GPT\"\n",
    "with open(\"demo_css/set_param.css\", \"r\", encoding=\"utf-8\") as f:\n",
    "    set_param_css = f.read()\n",
    "    \n",
    "with gr.Blocks(css=set_param_css) as demo:\n",
    "    gr.Markdown(\"# Please choose LLM\")\n",
    "    with gr.Row():\n",
    "        select_llm = gr.Dropdown(\n",
    "            [\"GPT\", \"Alpaca Lora\"], value=\"GPT\", \n",
    "            label=\"It's a lot better to use GPT but if you don't want to get openai api key, you can use Alpaca Lora.\"\n",
    "        )\n",
    "    with gr.Row():\n",
    "        with gr.Column(scale=9):\n",
    "            openai_api_key_or_gradio_url_box = gr.Textbox(\n",
    "                elem_id=\"openai_api_key_or_gradio_url_box\",\n",
    "                placeholder=\"Enter OpenAI API Key\", \n",
    "                label=\"How to get OpenAI API Key...\")\n",
    "        with gr.Column(min_width=70, scale=1):\n",
    "            submit_button = gr.Button(value=\"Submit\", elem_id=\"submit_button\")\n",
    "        \n",
    "    def set_llm(selected_llm: str) -> None:\n",
    "        \"\"\"\n",
    "        Set llm and update message in textbox accordingly.\n",
    "        \n",
    "        :param selected_llm: user selected llm\n",
    "        \"\"\"\n",
    "        llm = selected_llm\n",
    "        if llm == \"GPT\":\n",
    "            return gr.update(\n",
    "                value=\"\", \n",
    "                placeholder=\"Enter OpenAI API Key\", \n",
    "                label=\"How to get OpenAI API Key...\")\n",
    "        else:\n",
    "            return gr.update(\n",
    "                value=\"\", \n",
    "                placeholder=\"Enter Gradio URL\", \n",
    "                label=\"How to get Gradio URL...\")\n",
    "            \n",
    "    def set_openai_api_key_or_gradio_url(openai_api_key_or_gradio_url_input: str) -> None:\n",
    "        \"\"\"\n",
    "        Set openai_api_key_or_gradio_url.\n",
    "        \n",
    "        :param openai_api_key_or_gradio_url_input: user input for openai_api_key_or_gradio_url\n",
    "        \"\"\"\n",
    "        global openai_api_key_or_gradio_url\n",
    "        openai_api_key_or_gradio_url = openai_api_key_or_gradio_url_input\n",
    "    \n",
    "    select_llm.input(\n",
    "        fn=set_llm, inputs=select_llm, outputs=openai_api_key_or_gradio_url_box)\n",
    "    \n",
    "    openai_api_key_or_gradio_url_box.submit(\n",
    "        fn=set_openai_api_key_or_gradio_url, inputs=openai_api_key_or_gradio_url_box)\n",
    "    \n",
    "    submit_button.click(\n",
    "        fn=set_openai_api_key_or_gradio_url, inputs=openai_api_key_or_gradio_url_box)\n",
    "        \n",
    "if __name__ == \"__main__\":\n",
    "    demo.launch()"
   ]
  },
  {
   "cell_type": "code",
   "execution_count": 14,
   "metadata": {},
   "outputs": [
    {
     "name": "stderr",
     "output_type": "stream",
     "text": [
      "c:\\Users\\chanm\\Documents\\GitHub\\llm-convrec\\venv\\lib\\site-packages\\gradio\\networking.py:143: ResourceWarning: unclosed <socket.socket fd=3928, family=AddressFamily.AF_INET, type=SocketKind.SOCK_STREAM, proto=0>\n",
      "  s = socket.socket()\n",
      "ResourceWarning: Enable tracemalloc to get the object allocation traceback\n",
      "c:\\Users\\chanm\\Documents\\GitHub\\llm-convrec\\venv\\lib\\site-packages\\gradio\\networking.py:143: ResourceWarning: unclosed <socket.socket fd=5948, family=AddressFamily.AF_INET, type=SocketKind.SOCK_STREAM, proto=0>\n",
      "  s = socket.socket()\n",
      "ResourceWarning: Enable tracemalloc to get the object allocation traceback\n",
      "c:\\Users\\chanm\\Documents\\GitHub\\llm-convrec\\venv\\lib\\site-packages\\gradio\\networking.py:143: ResourceWarning: unclosed <socket.socket fd=5944, family=AddressFamily.AF_INET, type=SocketKind.SOCK_STREAM, proto=0>\n",
      "  s = socket.socket()\n",
      "ResourceWarning: Enable tracemalloc to get the object allocation traceback\n"
     ]
    },
    {
     "name": "stdout",
     "output_type": "stream",
     "text": [
      "Running on local URL:  http://127.0.0.1:7872\n",
      "\n",
      "To create a public link, set `share=True` in `launch()`.\n"
     ]
    },
    {
     "data": {
      "text/html": [
       "<div><iframe src=\"http://127.0.0.1:7872/\" width=\"100%\" height=\"500\" allow=\"autoplay; camera; microphone; clipboard-read; clipboard-write;\" frameborder=\"0\" allowfullscreen></iframe></div>"
      ],
      "text/plain": [
       "<IPython.core.display.HTML object>"
      ]
     },
     "metadata": {},
     "output_type": "display_data"
    }
   ],
   "source": [
    "import gradio as gr\n",
    "import yaml\n",
    "import time\n",
    "from conv_rec_system import ConvRecSystem\n",
    "from domain_specific.classes.restaurants.location_constraint_merger import LocationConstraintMerger\n",
    "\n",
    "with open(\"system_config.yaml\") as f:\n",
    "        config = yaml.load(f, Loader=yaml.FullLoader)\n",
    "config['LLM'] = llm\n",
    "\n",
    "user_merge_constraint_objects = [LocationConstraintMerger()]\n",
    "\n",
    "conv_rec_system = ConvRecSystem(\n",
    "        config, user_merge_constraint_objects, openai_api_key_or_gradio_url, user_interface_str=\"demo\")\n",
    "\n",
    "with open(\"demo_css/chatbot.css\", \"r\", encoding=\"utf-8\") as f:\n",
    "    chatbot_css = f.read()\n",
    "\n",
    "with gr.Blocks(css=chatbot_css) as demo:\n",
    "    gr.Markdown(\"# LLM Convrec\")\n",
    "    history = gr.State([[None, conv_rec_system.init_msg]])\n",
    "    with gr.Row():\n",
    "        chatbot = gr.Chatbot(\n",
    "            value=[[None, conv_rec_system.init_msg]], show_label=False, elem_id=\"llm_conv_rec\")\n",
    "    with gr.Row(equal_height=True):\n",
    "        with gr.Column(scale=8):\n",
    "            user_input = gr.Textbox(show_label=False, placeholder=\"Enter text\", container=False)\n",
    "        with gr.Column(min_width=70, scale=1):\n",
    "            send_button = gr.Button(value=\"Send\")\n",
    "        with gr.Column(min_width=70, scale=3):\n",
    "            new_conv_button = gr.Button(value=\"New Conversation\")\n",
    "\n",
    "    def display_user_input(user_message, chatbot, history) -> tuple[gr.Textbox, gr.Chatbot, gr.State]:\n",
    "        \"\"\"\n",
    "        Display user input.\n",
    "        \n",
    "        :param user_message: user input\n",
    "        :param chatbot: chatbot that display chat history\n",
    "        :param history: chat history\n",
    "        :return: a tuple of textbox,chatbot, and state that are updated\n",
    "        \"\"\"\n",
    "        chatbot[-1][1] = history[-1][1]\n",
    "        return \"\", chatbot + [[user_message, None]], history + [[user_message, None]]\n",
    "\n",
    "    def display_recommender_response(chatbot, history) -> tuple[gr.Chatbot, gr.State]:\n",
    "        \"\"\"\n",
    "        Display recommender's response.\n",
    "        \n",
    "        :param chatbot: chatbot that display chat history\n",
    "        :param history: chat history\n",
    "        :return: a tuple of chatbot and state that are updated\n",
    "        \"\"\"\n",
    "        bot_message = conv_rec_system.get_response(chatbot[-1][0])\n",
    "        history[-1][1] = bot_message\n",
    "        chatbot[-1][1] = \"\"\n",
    "        for character in bot_message:\n",
    "            chatbot[-1][1] += character\n",
    "            time.sleep(0.015)\n",
    "            yield chatbot, history\n",
    "\n",
    "    def reset_state() -> tuple[gr.Textbox, gr.Chatbot, gr.State]:\n",
    "        \"\"\"\n",
    "        Reset state.\n",
    "        \n",
    "        :return: a tuple of textbox, chatbot, and state that are reset\n",
    "        \"\"\"\n",
    "        conv_rec_system.dialogue_manager.state_manager.reset_state()\n",
    "        return \"\", [[None, conv_rec_system.init_msg]], [[None, conv_rec_system.init_msg]]\n",
    "    \n",
    "    user_input.submit(\n",
    "        fn=display_user_input, inputs=[user_input, chatbot, history], \n",
    "        outputs=[user_input, chatbot, history], queue=True).then(\n",
    "            fn=display_recommender_response, inputs=[chatbot, history], outputs=[chatbot, history])\n",
    "        \n",
    "    send_button.click(\n",
    "        fn=display_user_input, inputs=[user_input, chatbot, history], \n",
    "        outputs=[user_input, chatbot, history], queue=True).then(\n",
    "            fn=display_recommender_response, inputs=[chatbot, history], outputs=[chatbot, history])\n",
    "        \n",
    "    new_conv_button.click(\n",
    "        fn=reset_state, outputs=[user_input, chatbot, history], queue=True)\n",
    "\n",
    "\n",
    "if __name__ == \"__main__\":\n",
    "    demo.queue()\n",
    "    demo.launch()\n",
    "    "
   ]
  }
 ],
 "metadata": {
  "kernelspec": {
   "display_name": "venv",
   "language": "python",
   "name": "python3"
  },
  "language_info": {
   "codemirror_mode": {
    "name": "ipython",
    "version": 3
   },
   "file_extension": ".py",
   "mimetype": "text/x-python",
   "name": "python",
   "nbconvert_exporter": "python",
   "pygments_lexer": "ipython3",
   "version": "3.10.10"
  },
  "orig_nbformat": 4
 },
 "nbformat": 4,
 "nbformat_minor": 2
}
