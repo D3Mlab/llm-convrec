{
 "cells": [
  {
   "cell_type": "code",
   "execution_count": 1,
   "metadata": {},
   "outputs": [
    {
     "name": "stdout",
     "output_type": "stream",
     "text": [
      "Note: you may need to restart the kernel to use updated packages.\n"
     ]
    },
    {
     "name": "stderr",
     "output_type": "stream",
     "text": [
      "ERROR: Could not open requirements file: [Errno 2] No such file or directory: '../requirements.txt'\n",
      "\n",
      "[notice] A new release of pip available: 22.3.1 -> 23.1.2\n",
      "[notice] To update, run: python.exe -m pip install --upgrade pip\n"
     ]
    }
   ],
   "source": [
    "%pip install -r ../requirements.txt"
   ]
  },
  {
   "cell_type": "code",
   "execution_count": 2,
   "metadata": {},
   "outputs": [
    {
     "name": "stderr",
     "output_type": "stream",
     "text": [
      "c:\\Users\\chanm\\Documents\\GitHub\\llm-convrec\\venv\\lib\\site-packages\\gradio\\utils.py:835: UserWarning: Expected 2 arguments for function <function select_param at 0x000001FF05FD7AC0>, received 1.\n",
      "  warnings.warn(\n",
      "c:\\Users\\chanm\\Documents\\GitHub\\llm-convrec\\venv\\lib\\site-packages\\gradio\\utils.py:839: UserWarning: Expected at least 2 arguments for function <function select_param at 0x000001FF05FD7AC0>, received 1.\n",
      "  warnings.warn(\n"
     ]
    },
    {
     "name": "stdout",
     "output_type": "stream",
     "text": [
      "Running on local URL:  http://127.0.0.1:7861\n",
      "\n",
      "To create a public link, set `share=True` in `launch()`.\n"
     ]
    },
    {
     "data": {
      "text/html": [
       "<div><iframe src=\"http://127.0.0.1:7861/\" width=\"100%\" height=\"500\" allow=\"autoplay; camera; microphone; clipboard-read; clipboard-write;\" frameborder=\"0\" allowfullscreen></iframe></div>"
      ],
      "text/plain": [
       "<IPython.core.display.HTML object>"
      ]
     },
     "metadata": {},
     "output_type": "display_data"
    },
    {
     "name": "stderr",
     "output_type": "stream",
     "text": [
      "c:\\Users\\chanm\\Documents\\GitHub\\llm-convrec\\venv\\lib\\site-packages\\gradio\\helpers.py:672: UserWarning: Unexpected argument. Filling with None.\n",
      "  warnings.warn(\"Unexpected argument. Filling with None.\")\n"
     ]
    }
   ],
   "source": [
    "import gradio as gr\n",
    "def select_param(selected_llm, given_openai_api_key_or_gradio_url):\n",
    "  global llm\n",
    "  llm = selected_llm\n",
    "  global openai_api_key_or_gradio_url\n",
    "  openai_api_key_or_gradio_url = given_openai_api_key_or_gradio_url\n",
    "\n",
    "demo = gr.Interface(fn=select_param, inputs=[gr.Dropdown(\n",
    "            [\"GPT\", \"Alpaca Lora\"], label=\"Please choose LLM\", info=\"It's a lot better to use GPT but if you don't want to get openai api key, you can use Alpaca Lora.\"\n",
    "        )], outputs=None, title=\"Set parameters\"\n",
    "    )\n",
    "\n",
    "if __name__ == \"__main__\":\n",
    "    demo.launch()"
   ]
  },
  {
   "cell_type": "code",
   "execution_count": 40,
   "metadata": {},
   "outputs": [
    {
     "name": "stdout",
     "output_type": "stream",
     "text": [
      "Running on local URL:  http://127.0.0.1:7894\n",
      "\n",
      "To create a public link, set `share=True` in `launch()`.\n"
     ]
    },
    {
     "data": {
      "text/html": [
       "<div><iframe src=\"http://127.0.0.1:7894/\" width=\"100%\" height=\"500\" allow=\"autoplay; camera; microphone; clipboard-read; clipboard-write;\" frameborder=\"0\" allowfullscreen></iframe></div>"
      ],
      "text/plain": [
       "<IPython.core.display.HTML object>"
      ]
     },
     "metadata": {},
     "output_type": "display_data"
    }
   ],
   "source": [
    "with gr.Blocks() as demo:\n",
    "    gr.Markdown(\"# Please choose LLM\")\n",
    "    with gr.Row():\n",
    "        select_llm = gr.Dropdown(\n",
    "            [\"GPT\", \"Alpaca Lora\"], value=\"GPT\", \n",
    "            label=\"It's a lot better to use GPT but if you don't want to get openai api key, you can use Alpaca Lora.\", \n",
    "            interactive=True\n",
    "        )\n",
    "    with gr.Row(equal_height=True):\n",
    "        with gr.Column(scale=9):\n",
    "            openai_api_key_or_gradio_url_box = gr.Textbox(\n",
    "                show_label=False, container=False, interactive= True,\n",
    "                placeholder=\"Enter OpenAI API Key\", \n",
    "                info=\"How to get OpenAI API Key...\")\n",
    "        with gr.Column(min_width=70, scale=1):\n",
    "            submit_button = gr.Button(value=\"Submit\")\n",
    "        \n",
    "    def set_llm(selected_llm: str) -> None:\n",
    "        global llm\n",
    "        llm = selected_llm\n",
    "        if llm == \"GPT\":\n",
    "            return gr.update(\n",
    "                value=\"\", \n",
    "                placeholder=\"Enter OpenAI API Key\", \n",
    "                info=\"How to get OpenAI API Key...\")\n",
    "        else:\n",
    "            return gr.update(\n",
    "                value=\"\", \n",
    "                placeholder=\"Enter Gradio URL\", \n",
    "                info=\"How to get Gradio URL...\")\n",
    "            \n",
    "    def set_openai_api_key_or_gradio_url(openai_api_key_or_gradio_url_input: str) -> None:\n",
    "        global openai_api_key_or_gradio_url\n",
    "        openai_api_key_or_gradio_url = openai_api_key_or_gradio_url_input\n",
    "    \n",
    "    select_llm.input(\n",
    "        fn=set_llm, inputs=select_llm, outputs=openai_api_key_or_gradio_url_box)\n",
    "    \n",
    "    openai_api_key_or_gradio_url_box.submit(\n",
    "        fn=set_openai_api_key_or_gradio_url, inputs=openai_api_key_or_gradio_url_box)\n",
    "    \n",
    "    submit_button.click(\n",
    "        fn=set_openai_api_key_or_gradio_url, inputs=openai_api_key_or_gradio_url_box)\n",
    "        \n",
    "if __name__ == \"__main__\":\n",
    "    demo.launch()"
   ]
  },
  {
   "cell_type": "code",
   "execution_count": 56,
   "metadata": {},
   "outputs": [
    {
     "ename": "HfHubHTTPError",
     "evalue": "404 Client Error: Not Found for url: https://huggingface.co/api/spaces/dyj (Request ID: Root=1-64b0d38f-20ef5bee7e82a78c6f09a754;bacbbd17-0952-4aa3-9f65-ff429f6b211b)\n\nSorry, we can't find the page you are looking for.",
     "output_type": "error",
     "traceback": [
      "\u001b[1;31m---------------------------------------------------------------------------\u001b[0m",
      "\u001b[1;31mHTTPError\u001b[0m                                 Traceback (most recent call last)",
      "File \u001b[1;32mc:\\Users\\chanm\\Documents\\GitHub\\llm-convrec\\venv\\lib\\site-packages\\huggingface_hub\\utils\\_errors.py:261\u001b[0m, in \u001b[0;36mhf_raise_for_status\u001b[1;34m(response, endpoint_name)\u001b[0m\n\u001b[0;32m    260\u001b[0m \u001b[39mtry\u001b[39;00m:\n\u001b[1;32m--> 261\u001b[0m     response\u001b[39m.\u001b[39;49mraise_for_status()\n\u001b[0;32m    262\u001b[0m \u001b[39mexcept\u001b[39;00m HTTPError \u001b[39mas\u001b[39;00m e:\n",
      "File \u001b[1;32mc:\\Users\\chanm\\Documents\\GitHub\\llm-convrec\\venv\\lib\\site-packages\\requests\\models.py:1021\u001b[0m, in \u001b[0;36mResponse.raise_for_status\u001b[1;34m(self)\u001b[0m\n\u001b[0;32m   1020\u001b[0m \u001b[39mif\u001b[39;00m http_error_msg:\n\u001b[1;32m-> 1021\u001b[0m     \u001b[39mraise\u001b[39;00m HTTPError(http_error_msg, response\u001b[39m=\u001b[39m\u001b[39mself\u001b[39m)\n",
      "\u001b[1;31mHTTPError\u001b[0m: 404 Client Error: Not Found for url: https://huggingface.co/api/spaces/dyj",
      "\nThe above exception was the direct cause of the following exception:\n",
      "\u001b[1;31mHfHubHTTPError\u001b[0m                            Traceback (most recent call last)",
      "Cell \u001b[1;32mIn[56], line 13\u001b[0m\n\u001b[0;32m      9\u001b[0m config[\u001b[39m'\u001b[39m\u001b[39mLLM\u001b[39m\u001b[39m'\u001b[39m] \u001b[39m=\u001b[39m llm\n\u001b[0;32m     11\u001b[0m user_merge_constraint_objects \u001b[39m=\u001b[39m [LocationConstraintMerger()]\n\u001b[1;32m---> 13\u001b[0m conv_rec_system \u001b[39m=\u001b[39m ConvRecSystem(\n\u001b[0;32m     14\u001b[0m         config, user_merge_constraint_objects, openai_api_key_or_gradio_url, user_interface_str\u001b[39m=\u001b[39;49m\u001b[39m\"\u001b[39;49m\u001b[39mdemo\u001b[39;49m\u001b[39m\"\u001b[39;49m)\n\u001b[0;32m     16\u001b[0m \u001b[39mwith\u001b[39;00m \u001b[39mopen\u001b[39m(\u001b[39m\"\u001b[39m\u001b[39mdemo.css\u001b[39m\u001b[39m\"\u001b[39m, \u001b[39m\"\u001b[39m\u001b[39mr\u001b[39m\u001b[39m\"\u001b[39m, encoding\u001b[39m=\u001b[39m\u001b[39m\"\u001b[39m\u001b[39mutf-8\u001b[39m\u001b[39m\"\u001b[39m) \u001b[39mas\u001b[39;00m f:\n\u001b[0;32m     17\u001b[0m     demo_css \u001b[39m=\u001b[39m f\u001b[39m.\u001b[39mread()\n",
      "File \u001b[1;32mc:\\Users\\chanm\\Documents\\GitHub\\llm-convrec\\conv_rec_system.py:81\u001b[0m, in \u001b[0;36mConvRecSystem.__init__\u001b[1;34m(self, config, user_defined_constraint_mergers, openai_api_key_or_gradio_url, user_interface_str)\u001b[0m\n\u001b[0;32m     78\u001b[0m     \u001b[39mraise\u001b[39;00m \u001b[39mTypeError\u001b[39;00m(\u001b[39m\"\u001b[39m\u001b[39mThe variable type of OPENAI_API_KEY or GRADIO_URL is wrong.\u001b[39m\u001b[39m\"\u001b[39m)\n\u001b[0;32m     80\u001b[0m \u001b[39mif\u001b[39;00m config[\u001b[39m'\u001b[39m\u001b[39mLLM\u001b[39m\u001b[39m'\u001b[39m] \u001b[39m==\u001b[39m \u001b[39m\"\u001b[39m\u001b[39mAlpaca Lora\u001b[39m\u001b[39m\"\u001b[39m:\n\u001b[1;32m---> 81\u001b[0m     llm_wrapper \u001b[39m=\u001b[39m AlpacaLoraWrapper(openai_api_key_or_gradio_url)\n\u001b[0;32m     82\u001b[0m \u001b[39melse\u001b[39;00m:\n\u001b[0;32m     83\u001b[0m     llm_wrapper \u001b[39m=\u001b[39m GPTWrapper(openai_api_key_or_gradio_url, model_name\u001b[39m=\u001b[39mmodel, observers\u001b[39m=\u001b[39m[\u001b[39mself\u001b[39m])\n",
      "File \u001b[1;32mc:\\Users\\chanm\\Documents\\GitHub\\llm-convrec\\intelligence\\alpaca_lora_wrapper.py:16\u001b[0m, in \u001b[0;36mAlpacaLoraWrapper.__init__\u001b[1;34m(self, gradio_url, temperature)\u001b[0m\n\u001b[0;32m     15\u001b[0m \u001b[39mdef\u001b[39;00m \u001b[39m__init__\u001b[39m(\u001b[39mself\u001b[39m, gradio_url: \u001b[39mstr\u001b[39m, temperature: \u001b[39mfloat\u001b[39m\u001b[39m=\u001b[39m\u001b[39m0.1\u001b[39m):\n\u001b[1;32m---> 16\u001b[0m     \u001b[39mself\u001b[39m\u001b[39m.\u001b[39m_client \u001b[39m=\u001b[39m Client(gradio_url)\n\u001b[0;32m     17\u001b[0m     \u001b[39mself\u001b[39m\u001b[39m.\u001b[39m_client\u001b[39m.\u001b[39mview_api()\n\u001b[0;32m     18\u001b[0m     \u001b[39mself\u001b[39m\u001b[39m.\u001b[39m_temperature \u001b[39m=\u001b[39m temperature\n",
      "File \u001b[1;32mc:\\Users\\chanm\\Documents\\GitHub\\llm-convrec\\venv\\lib\\site-packages\\gradio_client\\client.py:99\u001b[0m, in \u001b[0;36mClient.__init__\u001b[1;34m(self, src, hf_token, max_workers, serialize, output_dir, verbose)\u001b[0m\n\u001b[0;32m     97\u001b[0m     _src \u001b[39m=\u001b[39m src \u001b[39mif\u001b[39;00m src\u001b[39m.\u001b[39mendswith(\u001b[39m\"\u001b[39m\u001b[39m/\u001b[39m\u001b[39m\"\u001b[39m) \u001b[39melse\u001b[39;00m src \u001b[39m+\u001b[39m \u001b[39m\"\u001b[39m\u001b[39m/\u001b[39m\u001b[39m\"\u001b[39m\n\u001b[0;32m     98\u001b[0m \u001b[39melse\u001b[39;00m:\n\u001b[1;32m---> 99\u001b[0m     _src \u001b[39m=\u001b[39m \u001b[39mself\u001b[39;49m\u001b[39m.\u001b[39;49m_space_name_to_src(src)\n\u001b[0;32m    100\u001b[0m     \u001b[39mif\u001b[39;00m _src \u001b[39mis\u001b[39;00m \u001b[39mNone\u001b[39;00m:\n\u001b[0;32m    101\u001b[0m         \u001b[39mraise\u001b[39;00m \u001b[39mValueError\u001b[39;00m(\n\u001b[0;32m    102\u001b[0m             \u001b[39mf\u001b[39m\u001b[39m\"\u001b[39m\u001b[39mCould not find Space: \u001b[39m\u001b[39m{\u001b[39;00msrc\u001b[39m}\u001b[39;00m\u001b[39m. If it is a private Space, please provide an hf_token.\u001b[39m\u001b[39m\"\u001b[39m\n\u001b[0;32m    103\u001b[0m         )\n",
      "File \u001b[1;32mc:\\Users\\chanm\\Documents\\GitHub\\llm-convrec\\venv\\lib\\site-packages\\gradio_client\\client.py:582\u001b[0m, in \u001b[0;36mClient._space_name_to_src\u001b[1;34m(self, space)\u001b[0m\n\u001b[0;32m    581\u001b[0m \u001b[39mdef\u001b[39;00m \u001b[39m_space_name_to_src\u001b[39m(\u001b[39mself\u001b[39m, space) \u001b[39m-\u001b[39m\u001b[39m>\u001b[39m \u001b[39mstr\u001b[39m \u001b[39m|\u001b[39m \u001b[39mNone\u001b[39;00m:\n\u001b[1;32m--> 582\u001b[0m     \u001b[39mreturn\u001b[39;00m huggingface_hub\u001b[39m.\u001b[39;49mspace_info(space, token\u001b[39m=\u001b[39;49m\u001b[39mself\u001b[39;49m\u001b[39m.\u001b[39;49mhf_token)\u001b[39m.\u001b[39mhost\n",
      "File \u001b[1;32mc:\\Users\\chanm\\Documents\\GitHub\\llm-convrec\\venv\\lib\\site-packages\\huggingface_hub\\utils\\_validators.py:118\u001b[0m, in \u001b[0;36mvalidate_hf_hub_args.<locals>._inner_fn\u001b[1;34m(*args, **kwargs)\u001b[0m\n\u001b[0;32m    115\u001b[0m \u001b[39mif\u001b[39;00m check_use_auth_token:\n\u001b[0;32m    116\u001b[0m     kwargs \u001b[39m=\u001b[39m smoothly_deprecate_use_auth_token(fn_name\u001b[39m=\u001b[39mfn\u001b[39m.\u001b[39m\u001b[39m__name__\u001b[39m, has_token\u001b[39m=\u001b[39mhas_token, kwargs\u001b[39m=\u001b[39mkwargs)\n\u001b[1;32m--> 118\u001b[0m \u001b[39mreturn\u001b[39;00m fn(\u001b[39m*\u001b[39margs, \u001b[39m*\u001b[39m\u001b[39m*\u001b[39mkwargs)\n",
      "File \u001b[1;32mc:\\Users\\chanm\\Documents\\GitHub\\llm-convrec\\venv\\lib\\site-packages\\huggingface_hub\\hf_api.py:1804\u001b[0m, in \u001b[0;36mHfApi.space_info\u001b[1;34m(self, repo_id, revision, timeout, files_metadata, token)\u001b[0m\n\u001b[0;32m   1801\u001b[0m     params[\u001b[39m\"\u001b[39m\u001b[39mblobs\u001b[39m\u001b[39m\"\u001b[39m] \u001b[39m=\u001b[39m \u001b[39mTrue\u001b[39;00m\n\u001b[0;32m   1803\u001b[0m r \u001b[39m=\u001b[39m get_session()\u001b[39m.\u001b[39mget(path, headers\u001b[39m=\u001b[39mheaders, timeout\u001b[39m=\u001b[39mtimeout, params\u001b[39m=\u001b[39mparams)\n\u001b[1;32m-> 1804\u001b[0m hf_raise_for_status(r)\n\u001b[0;32m   1805\u001b[0m d \u001b[39m=\u001b[39m r\u001b[39m.\u001b[39mjson()\n\u001b[0;32m   1806\u001b[0m \u001b[39mreturn\u001b[39;00m SpaceInfo(\u001b[39m*\u001b[39m\u001b[39m*\u001b[39md)\n",
      "File \u001b[1;32mc:\\Users\\chanm\\Documents\\GitHub\\llm-convrec\\venv\\lib\\site-packages\\huggingface_hub\\utils\\_errors.py:303\u001b[0m, in \u001b[0;36mhf_raise_for_status\u001b[1;34m(response, endpoint_name)\u001b[0m\n\u001b[0;32m    299\u001b[0m     \u001b[39mraise\u001b[39;00m BadRequestError(message, response\u001b[39m=\u001b[39mresponse) \u001b[39mfrom\u001b[39;00m \u001b[39me\u001b[39;00m\n\u001b[0;32m    301\u001b[0m \u001b[39m# Convert `HTTPError` into a `HfHubHTTPError` to display request information\u001b[39;00m\n\u001b[0;32m    302\u001b[0m \u001b[39m# as well (request id and/or server error message)\u001b[39;00m\n\u001b[1;32m--> 303\u001b[0m \u001b[39mraise\u001b[39;00m HfHubHTTPError(\u001b[39mstr\u001b[39m(e), response\u001b[39m=\u001b[39mresponse) \u001b[39mfrom\u001b[39;00m \u001b[39me\u001b[39;00m\n",
      "\u001b[1;31mHfHubHTTPError\u001b[0m: 404 Client Error: Not Found for url: https://huggingface.co/api/spaces/dyj (Request ID: Root=1-64b0d38f-20ef5bee7e82a78c6f09a754;bacbbd17-0952-4aa3-9f65-ff429f6b211b)\n\nSorry, we can't find the page you are looking for."
     ]
    }
   ],
   "source": [
    "import gradio as gr\n",
    "import yaml\n",
    "import time\n",
    "from conv_rec_system import ConvRecSystem\n",
    "from domain_specific.classes.restaurants.location_constraint_merger import LocationConstraintMerger\n",
    "\n",
    "with open(\"system_config.yaml\") as f:\n",
    "        config = yaml.load(f, Loader=yaml.FullLoader)\n",
    "config['LLM'] = llm\n",
    "\n",
    "user_merge_constraint_objects = [LocationConstraintMerger()]\n",
    "\n",
    "conv_rec_system = ConvRecSystem(\n",
    "        config, user_merge_constraint_objects, openai_api_key_or_gradio_url, user_interface_str=\"demo\")\n",
    "\n",
    "with open(\"demo.css\", \"r\", encoding=\"utf-8\") as f:\n",
    "    demo_css = f.read()\n",
    "\n",
    "with gr.Blocks(css=demo_css) as demo:\n",
    "    gr.Markdown(\"# LLM Convrec\")\n",
    "    history = gr.State([[None, conv_rec_system.init_msg]])\n",
    "    with gr.Row():\n",
    "        chatbot = gr.Chatbot(\n",
    "            value=[[None, conv_rec_system.init_msg]], show_label=False, elem_id=\"llm_conv_rec\")\n",
    "    with gr.Row(equal_height=True):\n",
    "        with gr.Column(scale=8):\n",
    "            user_input = gr.Textbox(show_label=False, placeholder=\"Enter text\", container=False)\n",
    "        with gr.Column(min_width=70, scale=1):\n",
    "            send_button = gr.Button(value=\"Send\")\n",
    "        with gr.Column(min_width=70, scale=3):\n",
    "            new_conv_button = gr.Button(value=\"New Conversation\")\n",
    "\n",
    "    def display_user_input(user_message, chatbot, history) -> tuple[gr.Textbox, gr.Chatbot, gr.State]:\n",
    "        chatbot[-1][1] = history[-1][1]\n",
    "        return \"\", chatbot + [[user_message, None]], history + [[user_message, None]]\n",
    "\n",
    "    def display_recommender_response(chatbot, history) -> tuple[gr.Chatbot, gr.State]:\n",
    "        bot_message = conv_rec_system.get_response(chatbot[-1][0])\n",
    "        history[-1][1] = bot_message\n",
    "        chatbot[-1][1] = \"\"\n",
    "        for character in bot_message:\n",
    "            chatbot[-1][1] += character\n",
    "            time.sleep(0.015)\n",
    "            yield chatbot, history\n",
    "\n",
    "    def reset_state() -> tuple[gr.Textbox, gr.Chatbot, gr.State]:\n",
    "        conv_rec_system.dialogue_manager.state_manager.reset_state()\n",
    "        return \"\", [[None, conv_rec_system.init_msg]], [[None, conv_rec_system.init_msg]]\n",
    "    \n",
    "    user_input.submit(\n",
    "        fn=display_user_input, inputs=[user_input, chatbot, history], \n",
    "        outputs=[user_input, chatbot, history], queue=True).then(\n",
    "            fn=display_recommender_response, inputs=[chatbot, history], outputs=[chatbot, history])\n",
    "        \n",
    "    send_button.click(\n",
    "        fn=display_user_input, inputs=[user_input, chatbot, history], \n",
    "        outputs=[user_input, chatbot, history], queue=True).then(\n",
    "            fn=display_recommender_response, inputs=[chatbot, history], outputs=[chatbot, history])\n",
    "        \n",
    "    new_conv_button.click(\n",
    "        fn=reset_state, outputs=[user_input, chatbot, history], queue=True)\n",
    "\n",
    "\n",
    "if __name__ == \"__main__\":\n",
    "    demo.queue()\n",
    "    demo.launch()\n",
    "    "
   ]
  }
 ],
 "metadata": {
  "kernelspec": {
   "display_name": "venv",
   "language": "python",
   "name": "python3"
  },
  "language_info": {
   "codemirror_mode": {
    "name": "ipython",
    "version": 3
   },
   "file_extension": ".py",
   "mimetype": "text/x-python",
   "name": "python",
   "nbconvert_exporter": "python",
   "pygments_lexer": "ipython3",
   "version": "3.10.10"
  },
  "orig_nbformat": 4
 },
 "nbformat": 4,
 "nbformat_minor": 2
}
