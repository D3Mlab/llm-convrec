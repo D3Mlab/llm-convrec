{
  "cells": [
    {
      "cell_type": "markdown",
      "source": [
        "# User intent classification using BERT\n",
        "If you want to run the program, simply click 'Run All'"
      ],
      "metadata": {
        "id": "KuiT5C5K0j6A"
      }
    },
    {
      "cell_type": "code",
      "execution_count": 2,
      "metadata": {
        "id": "ljtfvWnjIn7q",
        "colab": {
          "base_uri": "https://localhost:8080/"
        },
        "outputId": "cee05735-298c-4764-9b8c-e8deaa2b63c2"
      },
      "outputs": [
        {
          "output_type": "stream",
          "name": "stdout",
          "text": [
            "Requirement already satisfied: transformers in /usr/local/lib/python3.10/dist-packages (4.31.0)\n",
            "Requirement already satisfied: filelock in /usr/local/lib/python3.10/dist-packages (from transformers) (3.12.2)\n",
            "Requirement already satisfied: huggingface-hub<1.0,>=0.14.1 in /usr/local/lib/python3.10/dist-packages (from transformers) (0.16.4)\n",
            "Requirement already satisfied: numpy>=1.17 in /usr/local/lib/python3.10/dist-packages (from transformers) (1.23.5)\n",
            "Requirement already satisfied: packaging>=20.0 in /usr/local/lib/python3.10/dist-packages (from transformers) (23.1)\n",
            "Requirement already satisfied: pyyaml>=5.1 in /usr/local/lib/python3.10/dist-packages (from transformers) (6.0.1)\n",
            "Requirement already satisfied: regex!=2019.12.17 in /usr/local/lib/python3.10/dist-packages (from transformers) (2023.6.3)\n",
            "Requirement already satisfied: requests in /usr/local/lib/python3.10/dist-packages (from transformers) (2.31.0)\n",
            "Requirement already satisfied: tokenizers!=0.11.3,<0.14,>=0.11.1 in /usr/local/lib/python3.10/dist-packages (from transformers) (0.13.3)\n",
            "Requirement already satisfied: safetensors>=0.3.1 in /usr/local/lib/python3.10/dist-packages (from transformers) (0.3.2)\n",
            "Requirement already satisfied: tqdm>=4.27 in /usr/local/lib/python3.10/dist-packages (from transformers) (4.66.1)\n",
            "Requirement already satisfied: fsspec in /usr/local/lib/python3.10/dist-packages (from huggingface-hub<1.0,>=0.14.1->transformers) (2023.6.0)\n",
            "Requirement already satisfied: typing-extensions>=3.7.4.3 in /usr/local/lib/python3.10/dist-packages (from huggingface-hub<1.0,>=0.14.1->transformers) (4.7.1)\n",
            "Requirement already satisfied: charset-normalizer<4,>=2 in /usr/local/lib/python3.10/dist-packages (from requests->transformers) (3.2.0)\n",
            "Requirement already satisfied: idna<4,>=2.5 in /usr/local/lib/python3.10/dist-packages (from requests->transformers) (3.4)\n",
            "Requirement already satisfied: urllib3<3,>=1.21.1 in /usr/local/lib/python3.10/dist-packages (from requests->transformers) (2.0.4)\n",
            "Requirement already satisfied: certifi>=2017.4.17 in /usr/local/lib/python3.10/dist-packages (from requests->transformers) (2023.7.22)\n"
          ]
        }
      ],
      "source": [
        "!pip install transformers"
      ]
    },
    {
      "cell_type": "code",
      "execution_count": 3,
      "metadata": {
        "id": "UFsjyhAeIrvU",
        "colab": {
          "base_uri": "https://localhost:8080/"
        },
        "outputId": "33895b67-5135-4585-94bc-037a854e6576"
      },
      "outputs": [
        {
          "output_type": "execute_result",
          "data": {
            "text/plain": [
              "<torch._C.Generator at 0x78c9cc0ecbd0>"
            ]
          },
          "metadata": {},
          "execution_count": 3
        }
      ],
      "source": [
        "import torch\n",
        "import torch.nn as nn\n",
        "import torch.nn.functional as F\n",
        "import torch.optim as opt\n",
        "from transformers import BertModel, BertTokenizer\n",
        "import pandas as pd\n",
        "device = torch.device('cuda' if torch.cuda.is_available() else 'cpu')\n",
        "torch.manual_seed(1)"
      ]
    },
    {
      "cell_type": "markdown",
      "metadata": {
        "id": "lPmI5wzezP4O"
      },
      "source": [
        "### Hyperparameters"
      ]
    },
    {
      "cell_type": "code",
      "execution_count": 4,
      "metadata": {
        "id": "xjYAx5MrRv3V"
      },
      "outputs": [],
      "source": [
        "epochs = 32\n",
        "batch_size = 32\n",
        "lr = 2e-5\n",
        "weight_decay = 1e-3\n",
        "drop_out_rate = 0.5"
      ]
    },
    {
      "cell_type": "markdown",
      "source": [
        "### Model"
      ],
      "metadata": {
        "id": "_mkw-xyuzYUB"
      }
    },
    {
      "cell_type": "code",
      "execution_count": 5,
      "metadata": {
        "id": "sQ9TbASkJW-j"
      },
      "outputs": [],
      "source": [
        "class UserIntentClassification(nn.Module):\n",
        "    def __init__(self, model_name: str):\n",
        "        super().__init__()\n",
        "        self.embedder = BertModel.from_pretrained(model_name)\n",
        "        for param in self.embedder.parameters():\n",
        "            param.requires_grad = False\n",
        "\n",
        "        self.fc1 = nn.Linear(1024, 400)\n",
        "        self.fc2 = nn.Linear(400, 3)\n",
        "        self.dropout = nn.Dropout(p = drop_out_rate)\n",
        "\n",
        "    def forward(self, tokens):\n",
        "        embedding = self.embedder(**tokens)\n",
        "        embedding = embedding[0][:, 0, :] # Take the CLS token\n",
        "        tensor = self.fc1(embedding)\n",
        "        tensor = self.dropout(tensor)\n",
        "        tensor = F.leaky_relu(tensor)\n",
        "        tensor = self.fc2(tensor)\n",
        "        tensor = F.sigmoid(tensor)\n",
        "        return tensor"
      ]
    },
    {
      "cell_type": "markdown",
      "source": [
        "### Instantiation"
      ],
      "metadata": {
        "id": "3Ofq14I-zfJU"
      }
    },
    {
      "cell_type": "code",
      "execution_count": 6,
      "metadata": {
        "id": "vdp3G1S7KRal",
        "colab": {
          "base_uri": "https://localhost:8080/",
          "height": 145,
          "referenced_widgets": [
            "7ce1825656ac440b9aed0bec0cd1ea96",
            "41f5ea10da374f1b8de0635ea2834275",
            "679f788395cf4f3cb424b605f9b61060",
            "4d7552ffbf364c2dac79d2103c81cadf",
            "c21e55a1ffe2404096fefa0e0d2ff468",
            "7868dfe62f014e0b8bc55bb71f4de4d4",
            "4cb4b94c7b3e4c0bb60d12b956ad4ff4",
            "3d9f2ea0211c4e62ba43749543d37dff",
            "b1b96ef20e534487950c3c0b39ba9db0",
            "940cef741efe4f5382e393c484159037",
            "f0774cf44d2d4fed97091ec9e3b58cd3",
            "feae5fecf37242f28edccf06ce1e7d78",
            "3668b59efebb40bc996dee30e3fd9910",
            "3f5d7e0a2aec446189e03fc851f54104",
            "e7cd1b244a5a4b70b733303302e38008",
            "6cef08aed22c405f88d94b508ffe30d8",
            "6a379046c9d442d38ffc8388f96513b2",
            "c7048026f4b4484eb3b0605340ecb11d",
            "445ffd9b2d39405cb9e497c6b072b9a8",
            "dddf27a0c86b4626a4c44a087df4e23f",
            "18e0ad379f3c41bb81cc9b79df498d27",
            "2b1c53c287bd440e9e4d0d4cae665f61",
            "7223d466385d463fa7db91172f43eb89",
            "bf796d1e3c00427eb56fd6ea9e24ae16",
            "f97a1b1c1719482f9e49d07ae1107f6d",
            "75d538683e414b0caf2a1a86fd9bde74",
            "5bf1ef8de8144983b42de30f122023e5",
            "571c78d0dd5f411ab52f41c339032537",
            "4ffe42ace0134a7bb1ce39555686b88a",
            "1f292ef221054670914692a4d39c73ea",
            "a84a7261bf914a5b821beacd9cc98f5b",
            "928dfd2a03cd44178ff5fc28b6572e64",
            "901fd283c22a4a9faa48e196384d2f6f",
            "4df722cf639f434092f69572e02477f5",
            "03c86b107cbc4377927f473e5557be48",
            "6065fdbaf44d4b1c808d45bf77acd9b0",
            "53d6f92872fd46ba934cfe81ae00a34e",
            "aa10373165a449abaacc039c4ae5dfca",
            "7b64d64dad3f475887b63045798ddaa2",
            "dc1de516309643d18b44f2cbb96e443f",
            "0ed1a35cb85643039312f41109e6e725",
            "f57f8a880cb54087a90a8ece6400605d",
            "762c17f4d14540cbb60ba110daac362e",
            "7b2e57b8d2a84c99b5adfcdbd9093950"
          ]
        },
        "outputId": "c30b792e-3322-42ad-ad9b-8e27758f8d63"
      },
      "outputs": [
        {
          "output_type": "display_data",
          "data": {
            "text/plain": [
              "Downloading (…)solve/main/vocab.txt:   0%|          | 0.00/232k [00:00<?, ?B/s]"
            ],
            "application/vnd.jupyter.widget-view+json": {
              "version_major": 2,
              "version_minor": 0,
              "model_id": "7ce1825656ac440b9aed0bec0cd1ea96"
            }
          },
          "metadata": {}
        },
        {
          "output_type": "display_data",
          "data": {
            "text/plain": [
              "Downloading (…)okenizer_config.json:   0%|          | 0.00/28.0 [00:00<?, ?B/s]"
            ],
            "application/vnd.jupyter.widget-view+json": {
              "version_major": 2,
              "version_minor": 0,
              "model_id": "feae5fecf37242f28edccf06ce1e7d78"
            }
          },
          "metadata": {}
        },
        {
          "output_type": "display_data",
          "data": {
            "text/plain": [
              "Downloading (…)lve/main/config.json:   0%|          | 0.00/571 [00:00<?, ?B/s]"
            ],
            "application/vnd.jupyter.widget-view+json": {
              "version_major": 2,
              "version_minor": 0,
              "model_id": "7223d466385d463fa7db91172f43eb89"
            }
          },
          "metadata": {}
        },
        {
          "output_type": "display_data",
          "data": {
            "text/plain": [
              "Downloading model.safetensors:   0%|          | 0.00/1.34G [00:00<?, ?B/s]"
            ],
            "application/vnd.jupyter.widget-view+json": {
              "version_major": 2,
              "version_minor": 0,
              "model_id": "4df722cf639f434092f69572e02477f5"
            }
          },
          "metadata": {}
        }
      ],
      "source": [
        "tokenizer_name = \"bert-large-uncased\"\n",
        "model_name = \"bert-large-uncased\"\n",
        "\n",
        "tokenizer = BertTokenizer.from_pretrained(tokenizer_name)\n",
        "classifier = UserIntentClassification(model_name).to(device)"
      ]
    },
    {
      "cell_type": "code",
      "execution_count": 7,
      "metadata": {
        "id": "AhbwU7-3WQGu"
      },
      "outputs": [],
      "source": [
        "criterion = nn.BCELoss()\n",
        "optimizer = opt.Adam(classifier.parameters(), lr = lr, weight_decay = weight_decay)"
      ]
    },
    {
      "cell_type": "markdown",
      "source": [
        "### Training"
      ],
      "metadata": {
        "id": "91ILxH9szk3N"
      }
    },
    {
      "cell_type": "code",
      "execution_count": 9,
      "metadata": {
        "id": "4_UcHUQHRq-1",
        "colab": {
          "base_uri": "https://localhost:8080/"
        },
        "outputId": "9bd5cadb-c51d-494e-f681-b1e15241f270"
      },
      "outputs": [
        {
          "output_type": "stream",
          "name": "stdout",
          "text": [
            "Training Loss: 0.4350933133399407\n",
            "Validation Loss: 0.34448636397719384\n",
            "Training Loss: 0.27278016539839844\n",
            "Validation Loss: 0.24005263186991216\n",
            "Training Loss: 0.19370561863756233\n",
            "Validation Loss: 0.1860720468685031\n",
            "Training Loss: 0.14542352430885885\n",
            "Validation Loss: 0.15221794843673705\n",
            "Training Loss: 0.1132124326751462\n",
            "Validation Loss: 0.13780039437115194\n",
            "Training Loss: 0.09200485317297734\n",
            "Validation Loss: 0.10558340123388917\n",
            "Training Loss: 0.07828459063309458\n",
            "Validation Loss: 0.10398859290871769\n",
            "Training Loss: 0.06894964126221105\n",
            "Validation Loss: 0.09944357125787065\n",
            "Training Loss: 0.06142780233047822\n",
            "Validation Loss: 0.10162716284394264\n",
            "Training Loss: 0.05466091592071842\n",
            "Validation Loss: 0.09520553939510137\n",
            "Training Loss: 0.049306613561749445\n",
            "Validation Loss: 0.06566975379537325\n",
            "Training Loss: 0.04378935514315302\n",
            "Validation Loss: 0.06896092743845657\n",
            "Training Loss: 0.04516537771724163\n",
            "Validation Loss: 0.08062730059027672\n",
            "Training Loss: 0.03680674359215291\n",
            "Validation Loss: 0.05827091808896512\n",
            "Training Loss: 0.03707909716280697\n",
            "Validation Loss: 0.07747950556804425\n",
            "Training Loss: 0.03370385792058572\n",
            "Validation Loss: 0.07426907140179537\n",
            "Training Loss: 0.030479996720434242\n",
            "Validation Loss: 0.05880899226467591\n",
            "Training Loss: 0.028587248114176057\n",
            "Validation Loss: 0.05312032927176915\n",
            "Training Loss: 0.02746956055840834\n",
            "Validation Loss: 0.05631181678909343\n",
            "Training Loss: 0.024233030323132107\n",
            "Validation Loss: 0.06818312379036798\n",
            "Training Loss: 0.0224830869479742\n",
            "Validation Loss: 0.055780093504290564\n",
            "Training Loss: 0.022953412700074855\n",
            "Validation Loss: 0.06085064881772269\n",
            "Training Loss: 0.021826489390348158\n",
            "Validation Loss: 0.046342437498969956\n",
            "Training Loss: 0.019120891137735414\n",
            "Validation Loss: 0.055632451206474795\n",
            "Training Loss: 0.018735483469708016\n",
            "Validation Loss: 0.05226836927758995\n",
            "Training Loss: 0.017240867542298366\n",
            "Validation Loss: 0.06054416362239863\n",
            "Training Loss: 0.016229025759270183\n",
            "Validation Loss: 0.04474727964698104\n",
            "Training Loss: 0.015446910661832989\n",
            "Validation Loss: 0.0553405674858368\n",
            "Training Loss: 0.013436902066937092\n",
            "Validation Loss: 0.04580835200376896\n",
            "Training Loss: 0.014665877536880768\n",
            "Validation Loss: 0.047401414511114126\n",
            "Training Loss: 0.013609455297883525\n",
            "Validation Loss: 0.05986412829679466\n",
            "Training Loss: 0.012215909911695995\n",
            "Validation Loss: 0.05108995677146595\n"
          ]
        }
      ],
      "source": [
        "df = pd.read_csv(\"UserIntent.csv\")\n",
        "num_of_utterance = df.shape[0]\n",
        "\n",
        "# Stochastic gradient descent\n",
        "for epoch in range(epochs):\n",
        "    train_loss_list = []\n",
        "    valid_loss_list = []\n",
        "    for i in range(num_of_utterance-10):\n",
        "        sentence = df[\"Utterance\"][i]\n",
        "        tokens = tokenizer(sentence, return_tensors=\"pt\", padding=True, truncation=True).to(device)\n",
        "\n",
        "        label = torch.zeros(1, 3)\n",
        "        if(df[\"Accept\"][i] == 1):\n",
        "            label[0][0] = 1\n",
        "\n",
        "        if(df[\"Reject\"][i] == 1):\n",
        "            label[0][1] = 1\n",
        "\n",
        "        if(df[\"Inquire\"][i] == 1):\n",
        "            label[0][2] = 1\n",
        "        label = label.to(device)\n",
        "\n",
        "        # Forward pass\n",
        "        output = classifier(tokens)\n",
        "\n",
        "        # Backward pass\n",
        "        optimizer.zero_grad()\n",
        "        loss = criterion(output, label)\n",
        "        loss.backward()\n",
        "        train_loss_list.append(loss.item())\n",
        "        optimizer.step()\n",
        "\n",
        "    for i in range(num_of_utterance-10, num_of_utterance):\n",
        "        sentence = df[\"Utterance\"][i]\n",
        "        tokens = tokenizer(sentence, return_tensors=\"pt\", padding=True, truncation=True).to(device)\n",
        "\n",
        "        label = torch.zeros(1, 3)\n",
        "        if(df[\"Accept\"][i] == 1):\n",
        "            label[0][0] = 1\n",
        "\n",
        "        if(df[\"Reject\"][i] == 1):\n",
        "            label[0][1] = 1\n",
        "\n",
        "        if(df[\"Inquire\"][i] == 1):\n",
        "            label[0][2] = 1\n",
        "        label = label.to(device)\n",
        "\n",
        "        # Forward pass\n",
        "        output = classifier(tokens)\n",
        "\n",
        "        # Backward pass\n",
        "        loss = criterion(output, label)\n",
        "        valid_loss_list.append(loss.item())\n",
        "\n",
        "    print(\"Training Loss:\", sum(train_loss_list)/len(train_loss_list))\n",
        "    print(\"Validation Loss:\", sum(valid_loss_list)/len(valid_loss_list))"
      ]
    },
    {
      "cell_type": "code",
      "execution_count": 10,
      "metadata": {
        "id": "goLeR3dDSFRc",
        "colab": {
          "base_uri": "https://localhost:8080/"
        },
        "outputId": "6210ab7c-66a4-4e91-a278-1cf8bdb6b598"
      },
      "outputs": [
        {
          "output_type": "execute_result",
          "data": {
            "text/plain": [
              "UserIntentClassification(\n",
              "  (embedder): BertModel(\n",
              "    (embeddings): BertEmbeddings(\n",
              "      (word_embeddings): Embedding(30522, 1024, padding_idx=0)\n",
              "      (position_embeddings): Embedding(512, 1024)\n",
              "      (token_type_embeddings): Embedding(2, 1024)\n",
              "      (LayerNorm): LayerNorm((1024,), eps=1e-12, elementwise_affine=True)\n",
              "      (dropout): Dropout(p=0.1, inplace=False)\n",
              "    )\n",
              "    (encoder): BertEncoder(\n",
              "      (layer): ModuleList(\n",
              "        (0-23): 24 x BertLayer(\n",
              "          (attention): BertAttention(\n",
              "            (self): BertSelfAttention(\n",
              "              (query): Linear(in_features=1024, out_features=1024, bias=True)\n",
              "              (key): Linear(in_features=1024, out_features=1024, bias=True)\n",
              "              (value): Linear(in_features=1024, out_features=1024, bias=True)\n",
              "              (dropout): Dropout(p=0.1, inplace=False)\n",
              "            )\n",
              "            (output): BertSelfOutput(\n",
              "              (dense): Linear(in_features=1024, out_features=1024, bias=True)\n",
              "              (LayerNorm): LayerNorm((1024,), eps=1e-12, elementwise_affine=True)\n",
              "              (dropout): Dropout(p=0.1, inplace=False)\n",
              "            )\n",
              "          )\n",
              "          (intermediate): BertIntermediate(\n",
              "            (dense): Linear(in_features=1024, out_features=4096, bias=True)\n",
              "            (intermediate_act_fn): GELUActivation()\n",
              "          )\n",
              "          (output): BertOutput(\n",
              "            (dense): Linear(in_features=4096, out_features=1024, bias=True)\n",
              "            (LayerNorm): LayerNorm((1024,), eps=1e-12, elementwise_affine=True)\n",
              "            (dropout): Dropout(p=0.1, inplace=False)\n",
              "          )\n",
              "        )\n",
              "      )\n",
              "    )\n",
              "    (pooler): BertPooler(\n",
              "      (dense): Linear(in_features=1024, out_features=1024, bias=True)\n",
              "      (activation): Tanh()\n",
              "    )\n",
              "  )\n",
              "  (fc1): Linear(in_features=1024, out_features=400, bias=True)\n",
              "  (fc2): Linear(in_features=400, out_features=3, bias=True)\n",
              "  (dropout): Dropout(p=0.5, inplace=False)\n",
              ")"
            ]
          },
          "metadata": {},
          "execution_count": 10
        }
      ],
      "source": [
        "classifier.eval()"
      ]
    },
    {
      "cell_type": "markdown",
      "source": [
        "### Regular test accuracy"
      ],
      "metadata": {
        "id": "Jx6D6EIjzoo5"
      }
    },
    {
      "cell_type": "code",
      "execution_count": 11,
      "metadata": {
        "id": "7SJ31NaXSFRd",
        "scrolled": true,
        "colab": {
          "base_uri": "https://localhost:8080/"
        },
        "outputId": "a202c459-85d3-4055-ae3d-ed6d5b584fa8"
      },
      "outputs": [
        {
          "output_type": "stream",
          "name": "stdout",
          "text": [
            "Total correct: 102\n",
            "Total: 114\n",
            "Accuracy: 0.8947368421052632\n"
          ]
        }
      ],
      "source": [
        "df = pd.read_csv(\"Restaurant_User_Intent_Test.csv\", encoding='ISO-8859-1')\n",
        "\n",
        "correct = 0\n",
        "total = 0\n",
        "\n",
        "for i in range(df.shape[0]):\n",
        "    sentence = df[\"Input\"][i]\n",
        "    tokens = tokenizer(sentence, return_tensors=\"pt\", padding=True, truncation=True).to(device)\n",
        "    output = classifier(tokens)\n",
        "    output = output[0]\n",
        "    output = torch.where(output > 0.5, torch.tensor(1.0), torch.tensor(0.0)).to(\"cpu\")\n",
        "\n",
        "    label = torch.zeros(3)\n",
        "    for j in range(1, 3):\n",
        "        if((not pd.isna(df.at[i, f'Output{j}'])) and \"AcceptRecommendation\" in df[f'Output{j}'][i]):\n",
        "            label[0] = 1\n",
        "\n",
        "        if((not pd.isna(df.at[i, f'Output{j}'])) and \"RejectRecommendation\" in df[f'Output{j}'][i]):\n",
        "            label[1] = 1\n",
        "\n",
        "        if((not pd.isna(df.at[i, f'Output{j}'])) and \"Inquire\" in df[f'Output{j}'][i]):\n",
        "            label[2] = 1\n",
        "\n",
        "    if(torch.equal(label, output)):\n",
        "        correct += 1\n",
        "\n",
        "    total += 1\n",
        "\n",
        "print(\"Total correct:\", correct)\n",
        "print(\"Total:\", total)\n",
        "print(\"Accuracy:\", correct/total)"
      ]
    },
    {
      "cell_type": "markdown",
      "source": [
        "### Hard test accuracy"
      ],
      "metadata": {
        "id": "4Q-DUrH1z6-l"
      }
    },
    {
      "cell_type": "code",
      "execution_count": 12,
      "metadata": {
        "id": "Nl-a73yBSyQq",
        "colab": {
          "base_uri": "https://localhost:8080/"
        },
        "outputId": "07cb8382-af2b-4602-8b45-e9aa0549bb63"
      },
      "outputs": [
        {
          "output_type": "stream",
          "name": "stdout",
          "text": [
            "Total correct: 15\n",
            "Total: 15\n",
            "Accuracy: 1.0\n"
          ]
        }
      ],
      "source": [
        "df = pd.read_csv(\"Hard_Restaurant_User_Intent_Test.csv\", encoding='ISO-8859-1')\n",
        "\n",
        "correct = 0\n",
        "total = 0\n",
        "\n",
        "for i in range(df.shape[0]):\n",
        "    sentence = df[\"Input\"][i]\n",
        "    tokens = tokenizer(sentence, return_tensors=\"pt\", padding=True, truncation=True).to(device)\n",
        "    output = classifier(tokens)\n",
        "    output = output[0]\n",
        "    output = torch.where(output > 0.5, torch.tensor(1.0), torch.tensor(0.0)).to(\"cpu\")\n",
        "\n",
        "    label = torch.zeros(3)\n",
        "    for j in range(1, 3):\n",
        "        if((not pd.isna(df.at[i, f'Output{j}'])) and \"AcceptRecommendation\" in df[f'Output{j}'][i]):\n",
        "            label[0] = 1\n",
        "\n",
        "        if((not pd.isna(df.at[i, f'Output{j}'])) and \"RejectRecommendation\" in df[f'Output{j}'][i]):\n",
        "            label[1] = 1\n",
        "\n",
        "        if((not pd.isna(df.at[i, f'Output{j}'])) and \"Inquire\" in df[f'Output{j}'][i]):\n",
        "            label[2] = 1\n",
        "\n",
        "    if(torch.equal(label, output)):\n",
        "        correct += 1\n",
        "\n",
        "    total += 1\n",
        "\n",
        "print(\"Total correct:\", correct)\n",
        "print(\"Total:\", total)\n",
        "print(\"Accuracy:\", correct/total)"
      ]
    },
    {
      "cell_type": "markdown",
      "source": [
        "### Play around with this model"
      ],
      "metadata": {
        "id": "5hUD1fb5z_0C"
      }
    },
    {
      "cell_type": "code",
      "execution_count": 13,
      "metadata": {
        "id": "8568srmnZqhS",
        "colab": {
          "base_uri": "https://localhost:8080/"
        },
        "outputId": "cb88f3ba-f29d-4a1c-bce8-5a2fa89979a5"
      },
      "outputs": [
        {
          "output_type": "stream",
          "name": "stdout",
          "text": [
            "Reject\n"
          ]
        }
      ],
      "source": [
        "# This string is what you want to say\n",
        "sentence = \"No I don't want to go there. I like chinese food more\"\n",
        "\n",
        "\n",
        "tokens = tokenizer(sentence, return_tensors=\"pt\", padding=True, truncation=True).to(device)\n",
        "output = classifier(tokens)\n",
        "for i in range(output.shape[1]):\n",
        "    if(output[0][i]>0.5):\n",
        "        if(i == 0):\n",
        "            print(\"Accept\")\n",
        "        elif(i == 1):\n",
        "            print(\"Reject\")\n",
        "        elif(i == 2):\n",
        "            print(\"Inquire\")\n",
        "        elif(i == 3):\n",
        "            print(\"Random\")"
      ]
    },
    {
      "cell_type": "markdown",
      "source": [
        "### Check how many parameters this model has"
      ],
      "metadata": {
        "id": "a0s7OWR-0GGC"
      }
    },
    {
      "cell_type": "code",
      "execution_count": 14,
      "metadata": {
        "id": "MM3_6eUXSFRe",
        "colab": {
          "base_uri": "https://localhost:8080/"
        },
        "outputId": "bc2c4dbf-0da8-4893-cc71-050f10293e51"
      },
      "outputs": [
        {
          "output_type": "stream",
          "name": "stdout",
          "text": [
            "This model has 335553091 parameters.\n"
          ]
        }
      ],
      "source": [
        "print(\"This model has\", sum(p.numel() for p in classifier.parameters()), \"parameters.\")"
      ]
    }
  ],
  "metadata": {
    "accelerator": "GPU",
    "colab": {
      "gpuType": "T4",
      "provenance": []
    },
    "kernelspec": {
      "display_name": "Python 3",
      "name": "python3"
    },
    "language_info": {
      "codemirror_mode": {
        "name": "ipython",
        "version": 3
      },
      "file_extension": ".py",
      "mimetype": "text/x-python",
      "name": "python",
      "nbconvert_exporter": "python",
      "pygments_lexer": "ipython3",
      "version": "3.11.3"
    },
    "widgets": {
      "application/vnd.jupyter.widget-state+json": {
        "7ce1825656ac440b9aed0bec0cd1ea96": {
          "model_module": "@jupyter-widgets/controls",
          "model_name": "HBoxModel",
          "model_module_version": "1.5.0",
          "state": {
            "_dom_classes": [],
            "_model_module": "@jupyter-widgets/controls",
            "_model_module_version": "1.5.0",
            "_model_name": "HBoxModel",
            "_view_count": null,
            "_view_module": "@jupyter-widgets/controls",
            "_view_module_version": "1.5.0",
            "_view_name": "HBoxView",
            "box_style": "",
            "children": [
              "IPY_MODEL_41f5ea10da374f1b8de0635ea2834275",
              "IPY_MODEL_679f788395cf4f3cb424b605f9b61060",
              "IPY_MODEL_4d7552ffbf364c2dac79d2103c81cadf"
            ],
            "layout": "IPY_MODEL_c21e55a1ffe2404096fefa0e0d2ff468"
          }
        },
        "41f5ea10da374f1b8de0635ea2834275": {
          "model_module": "@jupyter-widgets/controls",
          "model_name": "HTMLModel",
          "model_module_version": "1.5.0",
          "state": {
            "_dom_classes": [],
            "_model_module": "@jupyter-widgets/controls",
            "_model_module_version": "1.5.0",
            "_model_name": "HTMLModel",
            "_view_count": null,
            "_view_module": "@jupyter-widgets/controls",
            "_view_module_version": "1.5.0",
            "_view_name": "HTMLView",
            "description": "",
            "description_tooltip": null,
            "layout": "IPY_MODEL_7868dfe62f014e0b8bc55bb71f4de4d4",
            "placeholder": "​",
            "style": "IPY_MODEL_4cb4b94c7b3e4c0bb60d12b956ad4ff4",
            "value": "Downloading (…)solve/main/vocab.txt: 100%"
          }
        },
        "679f788395cf4f3cb424b605f9b61060": {
          "model_module": "@jupyter-widgets/controls",
          "model_name": "FloatProgressModel",
          "model_module_version": "1.5.0",
          "state": {
            "_dom_classes": [],
            "_model_module": "@jupyter-widgets/controls",
            "_model_module_version": "1.5.0",
            "_model_name": "FloatProgressModel",
            "_view_count": null,
            "_view_module": "@jupyter-widgets/controls",
            "_view_module_version": "1.5.0",
            "_view_name": "ProgressView",
            "bar_style": "success",
            "description": "",
            "description_tooltip": null,
            "layout": "IPY_MODEL_3d9f2ea0211c4e62ba43749543d37dff",
            "max": 231508,
            "min": 0,
            "orientation": "horizontal",
            "style": "IPY_MODEL_b1b96ef20e534487950c3c0b39ba9db0",
            "value": 231508
          }
        },
        "4d7552ffbf364c2dac79d2103c81cadf": {
          "model_module": "@jupyter-widgets/controls",
          "model_name": "HTMLModel",
          "model_module_version": "1.5.0",
          "state": {
            "_dom_classes": [],
            "_model_module": "@jupyter-widgets/controls",
            "_model_module_version": "1.5.0",
            "_model_name": "HTMLModel",
            "_view_count": null,
            "_view_module": "@jupyter-widgets/controls",
            "_view_module_version": "1.5.0",
            "_view_name": "HTMLView",
            "description": "",
            "description_tooltip": null,
            "layout": "IPY_MODEL_940cef741efe4f5382e393c484159037",
            "placeholder": "​",
            "style": "IPY_MODEL_f0774cf44d2d4fed97091ec9e3b58cd3",
            "value": " 232k/232k [00:00&lt;00:00, 3.42MB/s]"
          }
        },
        "c21e55a1ffe2404096fefa0e0d2ff468": {
          "model_module": "@jupyter-widgets/base",
          "model_name": "LayoutModel",
          "model_module_version": "1.2.0",
          "state": {
            "_model_module": "@jupyter-widgets/base",
            "_model_module_version": "1.2.0",
            "_model_name": "LayoutModel",
            "_view_count": null,
            "_view_module": "@jupyter-widgets/base",
            "_view_module_version": "1.2.0",
            "_view_name": "LayoutView",
            "align_content": null,
            "align_items": null,
            "align_self": null,
            "border": null,
            "bottom": null,
            "display": null,
            "flex": null,
            "flex_flow": null,
            "grid_area": null,
            "grid_auto_columns": null,
            "grid_auto_flow": null,
            "grid_auto_rows": null,
            "grid_column": null,
            "grid_gap": null,
            "grid_row": null,
            "grid_template_areas": null,
            "grid_template_columns": null,
            "grid_template_rows": null,
            "height": null,
            "justify_content": null,
            "justify_items": null,
            "left": null,
            "margin": null,
            "max_height": null,
            "max_width": null,
            "min_height": null,
            "min_width": null,
            "object_fit": null,
            "object_position": null,
            "order": null,
            "overflow": null,
            "overflow_x": null,
            "overflow_y": null,
            "padding": null,
            "right": null,
            "top": null,
            "visibility": null,
            "width": null
          }
        },
        "7868dfe62f014e0b8bc55bb71f4de4d4": {
          "model_module": "@jupyter-widgets/base",
          "model_name": "LayoutModel",
          "model_module_version": "1.2.0",
          "state": {
            "_model_module": "@jupyter-widgets/base",
            "_model_module_version": "1.2.0",
            "_model_name": "LayoutModel",
            "_view_count": null,
            "_view_module": "@jupyter-widgets/base",
            "_view_module_version": "1.2.0",
            "_view_name": "LayoutView",
            "align_content": null,
            "align_items": null,
            "align_self": null,
            "border": null,
            "bottom": null,
            "display": null,
            "flex": null,
            "flex_flow": null,
            "grid_area": null,
            "grid_auto_columns": null,
            "grid_auto_flow": null,
            "grid_auto_rows": null,
            "grid_column": null,
            "grid_gap": null,
            "grid_row": null,
            "grid_template_areas": null,
            "grid_template_columns": null,
            "grid_template_rows": null,
            "height": null,
            "justify_content": null,
            "justify_items": null,
            "left": null,
            "margin": null,
            "max_height": null,
            "max_width": null,
            "min_height": null,
            "min_width": null,
            "object_fit": null,
            "object_position": null,
            "order": null,
            "overflow": null,
            "overflow_x": null,
            "overflow_y": null,
            "padding": null,
            "right": null,
            "top": null,
            "visibility": null,
            "width": null
          }
        },
        "4cb4b94c7b3e4c0bb60d12b956ad4ff4": {
          "model_module": "@jupyter-widgets/controls",
          "model_name": "DescriptionStyleModel",
          "model_module_version": "1.5.0",
          "state": {
            "_model_module": "@jupyter-widgets/controls",
            "_model_module_version": "1.5.0",
            "_model_name": "DescriptionStyleModel",
            "_view_count": null,
            "_view_module": "@jupyter-widgets/base",
            "_view_module_version": "1.2.0",
            "_view_name": "StyleView",
            "description_width": ""
          }
        },
        "3d9f2ea0211c4e62ba43749543d37dff": {
          "model_module": "@jupyter-widgets/base",
          "model_name": "LayoutModel",
          "model_module_version": "1.2.0",
          "state": {
            "_model_module": "@jupyter-widgets/base",
            "_model_module_version": "1.2.0",
            "_model_name": "LayoutModel",
            "_view_count": null,
            "_view_module": "@jupyter-widgets/base",
            "_view_module_version": "1.2.0",
            "_view_name": "LayoutView",
            "align_content": null,
            "align_items": null,
            "align_self": null,
            "border": null,
            "bottom": null,
            "display": null,
            "flex": null,
            "flex_flow": null,
            "grid_area": null,
            "grid_auto_columns": null,
            "grid_auto_flow": null,
            "grid_auto_rows": null,
            "grid_column": null,
            "grid_gap": null,
            "grid_row": null,
            "grid_template_areas": null,
            "grid_template_columns": null,
            "grid_template_rows": null,
            "height": null,
            "justify_content": null,
            "justify_items": null,
            "left": null,
            "margin": null,
            "max_height": null,
            "max_width": null,
            "min_height": null,
            "min_width": null,
            "object_fit": null,
            "object_position": null,
            "order": null,
            "overflow": null,
            "overflow_x": null,
            "overflow_y": null,
            "padding": null,
            "right": null,
            "top": null,
            "visibility": null,
            "width": null
          }
        },
        "b1b96ef20e534487950c3c0b39ba9db0": {
          "model_module": "@jupyter-widgets/controls",
          "model_name": "ProgressStyleModel",
          "model_module_version": "1.5.0",
          "state": {
            "_model_module": "@jupyter-widgets/controls",
            "_model_module_version": "1.5.0",
            "_model_name": "ProgressStyleModel",
            "_view_count": null,
            "_view_module": "@jupyter-widgets/base",
            "_view_module_version": "1.2.0",
            "_view_name": "StyleView",
            "bar_color": null,
            "description_width": ""
          }
        },
        "940cef741efe4f5382e393c484159037": {
          "model_module": "@jupyter-widgets/base",
          "model_name": "LayoutModel",
          "model_module_version": "1.2.0",
          "state": {
            "_model_module": "@jupyter-widgets/base",
            "_model_module_version": "1.2.0",
            "_model_name": "LayoutModel",
            "_view_count": null,
            "_view_module": "@jupyter-widgets/base",
            "_view_module_version": "1.2.0",
            "_view_name": "LayoutView",
            "align_content": null,
            "align_items": null,
            "align_self": null,
            "border": null,
            "bottom": null,
            "display": null,
            "flex": null,
            "flex_flow": null,
            "grid_area": null,
            "grid_auto_columns": null,
            "grid_auto_flow": null,
            "grid_auto_rows": null,
            "grid_column": null,
            "grid_gap": null,
            "grid_row": null,
            "grid_template_areas": null,
            "grid_template_columns": null,
            "grid_template_rows": null,
            "height": null,
            "justify_content": null,
            "justify_items": null,
            "left": null,
            "margin": null,
            "max_height": null,
            "max_width": null,
            "min_height": null,
            "min_width": null,
            "object_fit": null,
            "object_position": null,
            "order": null,
            "overflow": null,
            "overflow_x": null,
            "overflow_y": null,
            "padding": null,
            "right": null,
            "top": null,
            "visibility": null,
            "width": null
          }
        },
        "f0774cf44d2d4fed97091ec9e3b58cd3": {
          "model_module": "@jupyter-widgets/controls",
          "model_name": "DescriptionStyleModel",
          "model_module_version": "1.5.0",
          "state": {
            "_model_module": "@jupyter-widgets/controls",
            "_model_module_version": "1.5.0",
            "_model_name": "DescriptionStyleModel",
            "_view_count": null,
            "_view_module": "@jupyter-widgets/base",
            "_view_module_version": "1.2.0",
            "_view_name": "StyleView",
            "description_width": ""
          }
        },
        "feae5fecf37242f28edccf06ce1e7d78": {
          "model_module": "@jupyter-widgets/controls",
          "model_name": "HBoxModel",
          "model_module_version": "1.5.0",
          "state": {
            "_dom_classes": [],
            "_model_module": "@jupyter-widgets/controls",
            "_model_module_version": "1.5.0",
            "_model_name": "HBoxModel",
            "_view_count": null,
            "_view_module": "@jupyter-widgets/controls",
            "_view_module_version": "1.5.0",
            "_view_name": "HBoxView",
            "box_style": "",
            "children": [
              "IPY_MODEL_3668b59efebb40bc996dee30e3fd9910",
              "IPY_MODEL_3f5d7e0a2aec446189e03fc851f54104",
              "IPY_MODEL_e7cd1b244a5a4b70b733303302e38008"
            ],
            "layout": "IPY_MODEL_6cef08aed22c405f88d94b508ffe30d8"
          }
        },
        "3668b59efebb40bc996dee30e3fd9910": {
          "model_module": "@jupyter-widgets/controls",
          "model_name": "HTMLModel",
          "model_module_version": "1.5.0",
          "state": {
            "_dom_classes": [],
            "_model_module": "@jupyter-widgets/controls",
            "_model_module_version": "1.5.0",
            "_model_name": "HTMLModel",
            "_view_count": null,
            "_view_module": "@jupyter-widgets/controls",
            "_view_module_version": "1.5.0",
            "_view_name": "HTMLView",
            "description": "",
            "description_tooltip": null,
            "layout": "IPY_MODEL_6a379046c9d442d38ffc8388f96513b2",
            "placeholder": "​",
            "style": "IPY_MODEL_c7048026f4b4484eb3b0605340ecb11d",
            "value": "Downloading (…)okenizer_config.json: 100%"
          }
        },
        "3f5d7e0a2aec446189e03fc851f54104": {
          "model_module": "@jupyter-widgets/controls",
          "model_name": "FloatProgressModel",
          "model_module_version": "1.5.0",
          "state": {
            "_dom_classes": [],
            "_model_module": "@jupyter-widgets/controls",
            "_model_module_version": "1.5.0",
            "_model_name": "FloatProgressModel",
            "_view_count": null,
            "_view_module": "@jupyter-widgets/controls",
            "_view_module_version": "1.5.0",
            "_view_name": "ProgressView",
            "bar_style": "success",
            "description": "",
            "description_tooltip": null,
            "layout": "IPY_MODEL_445ffd9b2d39405cb9e497c6b072b9a8",
            "max": 28,
            "min": 0,
            "orientation": "horizontal",
            "style": "IPY_MODEL_dddf27a0c86b4626a4c44a087df4e23f",
            "value": 28
          }
        },
        "e7cd1b244a5a4b70b733303302e38008": {
          "model_module": "@jupyter-widgets/controls",
          "model_name": "HTMLModel",
          "model_module_version": "1.5.0",
          "state": {
            "_dom_classes": [],
            "_model_module": "@jupyter-widgets/controls",
            "_model_module_version": "1.5.0",
            "_model_name": "HTMLModel",
            "_view_count": null,
            "_view_module": "@jupyter-widgets/controls",
            "_view_module_version": "1.5.0",
            "_view_name": "HTMLView",
            "description": "",
            "description_tooltip": null,
            "layout": "IPY_MODEL_18e0ad379f3c41bb81cc9b79df498d27",
            "placeholder": "​",
            "style": "IPY_MODEL_2b1c53c287bd440e9e4d0d4cae665f61",
            "value": " 28.0/28.0 [00:00&lt;00:00, 400B/s]"
          }
        },
        "6cef08aed22c405f88d94b508ffe30d8": {
          "model_module": "@jupyter-widgets/base",
          "model_name": "LayoutModel",
          "model_module_version": "1.2.0",
          "state": {
            "_model_module": "@jupyter-widgets/base",
            "_model_module_version": "1.2.0",
            "_model_name": "LayoutModel",
            "_view_count": null,
            "_view_module": "@jupyter-widgets/base",
            "_view_module_version": "1.2.0",
            "_view_name": "LayoutView",
            "align_content": null,
            "align_items": null,
            "align_self": null,
            "border": null,
            "bottom": null,
            "display": null,
            "flex": null,
            "flex_flow": null,
            "grid_area": null,
            "grid_auto_columns": null,
            "grid_auto_flow": null,
            "grid_auto_rows": null,
            "grid_column": null,
            "grid_gap": null,
            "grid_row": null,
            "grid_template_areas": null,
            "grid_template_columns": null,
            "grid_template_rows": null,
            "height": null,
            "justify_content": null,
            "justify_items": null,
            "left": null,
            "margin": null,
            "max_height": null,
            "max_width": null,
            "min_height": null,
            "min_width": null,
            "object_fit": null,
            "object_position": null,
            "order": null,
            "overflow": null,
            "overflow_x": null,
            "overflow_y": null,
            "padding": null,
            "right": null,
            "top": null,
            "visibility": null,
            "width": null
          }
        },
        "6a379046c9d442d38ffc8388f96513b2": {
          "model_module": "@jupyter-widgets/base",
          "model_name": "LayoutModel",
          "model_module_version": "1.2.0",
          "state": {
            "_model_module": "@jupyter-widgets/base",
            "_model_module_version": "1.2.0",
            "_model_name": "LayoutModel",
            "_view_count": null,
            "_view_module": "@jupyter-widgets/base",
            "_view_module_version": "1.2.0",
            "_view_name": "LayoutView",
            "align_content": null,
            "align_items": null,
            "align_self": null,
            "border": null,
            "bottom": null,
            "display": null,
            "flex": null,
            "flex_flow": null,
            "grid_area": null,
            "grid_auto_columns": null,
            "grid_auto_flow": null,
            "grid_auto_rows": null,
            "grid_column": null,
            "grid_gap": null,
            "grid_row": null,
            "grid_template_areas": null,
            "grid_template_columns": null,
            "grid_template_rows": null,
            "height": null,
            "justify_content": null,
            "justify_items": null,
            "left": null,
            "margin": null,
            "max_height": null,
            "max_width": null,
            "min_height": null,
            "min_width": null,
            "object_fit": null,
            "object_position": null,
            "order": null,
            "overflow": null,
            "overflow_x": null,
            "overflow_y": null,
            "padding": null,
            "right": null,
            "top": null,
            "visibility": null,
            "width": null
          }
        },
        "c7048026f4b4484eb3b0605340ecb11d": {
          "model_module": "@jupyter-widgets/controls",
          "model_name": "DescriptionStyleModel",
          "model_module_version": "1.5.0",
          "state": {
            "_model_module": "@jupyter-widgets/controls",
            "_model_module_version": "1.5.0",
            "_model_name": "DescriptionStyleModel",
            "_view_count": null,
            "_view_module": "@jupyter-widgets/base",
            "_view_module_version": "1.2.0",
            "_view_name": "StyleView",
            "description_width": ""
          }
        },
        "445ffd9b2d39405cb9e497c6b072b9a8": {
          "model_module": "@jupyter-widgets/base",
          "model_name": "LayoutModel",
          "model_module_version": "1.2.0",
          "state": {
            "_model_module": "@jupyter-widgets/base",
            "_model_module_version": "1.2.0",
            "_model_name": "LayoutModel",
            "_view_count": null,
            "_view_module": "@jupyter-widgets/base",
            "_view_module_version": "1.2.0",
            "_view_name": "LayoutView",
            "align_content": null,
            "align_items": null,
            "align_self": null,
            "border": null,
            "bottom": null,
            "display": null,
            "flex": null,
            "flex_flow": null,
            "grid_area": null,
            "grid_auto_columns": null,
            "grid_auto_flow": null,
            "grid_auto_rows": null,
            "grid_column": null,
            "grid_gap": null,
            "grid_row": null,
            "grid_template_areas": null,
            "grid_template_columns": null,
            "grid_template_rows": null,
            "height": null,
            "justify_content": null,
            "justify_items": null,
            "left": null,
            "margin": null,
            "max_height": null,
            "max_width": null,
            "min_height": null,
            "min_width": null,
            "object_fit": null,
            "object_position": null,
            "order": null,
            "overflow": null,
            "overflow_x": null,
            "overflow_y": null,
            "padding": null,
            "right": null,
            "top": null,
            "visibility": null,
            "width": null
          }
        },
        "dddf27a0c86b4626a4c44a087df4e23f": {
          "model_module": "@jupyter-widgets/controls",
          "model_name": "ProgressStyleModel",
          "model_module_version": "1.5.0",
          "state": {
            "_model_module": "@jupyter-widgets/controls",
            "_model_module_version": "1.5.0",
            "_model_name": "ProgressStyleModel",
            "_view_count": null,
            "_view_module": "@jupyter-widgets/base",
            "_view_module_version": "1.2.0",
            "_view_name": "StyleView",
            "bar_color": null,
            "description_width": ""
          }
        },
        "18e0ad379f3c41bb81cc9b79df498d27": {
          "model_module": "@jupyter-widgets/base",
          "model_name": "LayoutModel",
          "model_module_version": "1.2.0",
          "state": {
            "_model_module": "@jupyter-widgets/base",
            "_model_module_version": "1.2.0",
            "_model_name": "LayoutModel",
            "_view_count": null,
            "_view_module": "@jupyter-widgets/base",
            "_view_module_version": "1.2.0",
            "_view_name": "LayoutView",
            "align_content": null,
            "align_items": null,
            "align_self": null,
            "border": null,
            "bottom": null,
            "display": null,
            "flex": null,
            "flex_flow": null,
            "grid_area": null,
            "grid_auto_columns": null,
            "grid_auto_flow": null,
            "grid_auto_rows": null,
            "grid_column": null,
            "grid_gap": null,
            "grid_row": null,
            "grid_template_areas": null,
            "grid_template_columns": null,
            "grid_template_rows": null,
            "height": null,
            "justify_content": null,
            "justify_items": null,
            "left": null,
            "margin": null,
            "max_height": null,
            "max_width": null,
            "min_height": null,
            "min_width": null,
            "object_fit": null,
            "object_position": null,
            "order": null,
            "overflow": null,
            "overflow_x": null,
            "overflow_y": null,
            "padding": null,
            "right": null,
            "top": null,
            "visibility": null,
            "width": null
          }
        },
        "2b1c53c287bd440e9e4d0d4cae665f61": {
          "model_module": "@jupyter-widgets/controls",
          "model_name": "DescriptionStyleModel",
          "model_module_version": "1.5.0",
          "state": {
            "_model_module": "@jupyter-widgets/controls",
            "_model_module_version": "1.5.0",
            "_model_name": "DescriptionStyleModel",
            "_view_count": null,
            "_view_module": "@jupyter-widgets/base",
            "_view_module_version": "1.2.0",
            "_view_name": "StyleView",
            "description_width": ""
          }
        },
        "7223d466385d463fa7db91172f43eb89": {
          "model_module": "@jupyter-widgets/controls",
          "model_name": "HBoxModel",
          "model_module_version": "1.5.0",
          "state": {
            "_dom_classes": [],
            "_model_module": "@jupyter-widgets/controls",
            "_model_module_version": "1.5.0",
            "_model_name": "HBoxModel",
            "_view_count": null,
            "_view_module": "@jupyter-widgets/controls",
            "_view_module_version": "1.5.0",
            "_view_name": "HBoxView",
            "box_style": "",
            "children": [
              "IPY_MODEL_bf796d1e3c00427eb56fd6ea9e24ae16",
              "IPY_MODEL_f97a1b1c1719482f9e49d07ae1107f6d",
              "IPY_MODEL_75d538683e414b0caf2a1a86fd9bde74"
            ],
            "layout": "IPY_MODEL_5bf1ef8de8144983b42de30f122023e5"
          }
        },
        "bf796d1e3c00427eb56fd6ea9e24ae16": {
          "model_module": "@jupyter-widgets/controls",
          "model_name": "HTMLModel",
          "model_module_version": "1.5.0",
          "state": {
            "_dom_classes": [],
            "_model_module": "@jupyter-widgets/controls",
            "_model_module_version": "1.5.0",
            "_model_name": "HTMLModel",
            "_view_count": null,
            "_view_module": "@jupyter-widgets/controls",
            "_view_module_version": "1.5.0",
            "_view_name": "HTMLView",
            "description": "",
            "description_tooltip": null,
            "layout": "IPY_MODEL_571c78d0dd5f411ab52f41c339032537",
            "placeholder": "​",
            "style": "IPY_MODEL_4ffe42ace0134a7bb1ce39555686b88a",
            "value": "Downloading (…)lve/main/config.json: 100%"
          }
        },
        "f97a1b1c1719482f9e49d07ae1107f6d": {
          "model_module": "@jupyter-widgets/controls",
          "model_name": "FloatProgressModel",
          "model_module_version": "1.5.0",
          "state": {
            "_dom_classes": [],
            "_model_module": "@jupyter-widgets/controls",
            "_model_module_version": "1.5.0",
            "_model_name": "FloatProgressModel",
            "_view_count": null,
            "_view_module": "@jupyter-widgets/controls",
            "_view_module_version": "1.5.0",
            "_view_name": "ProgressView",
            "bar_style": "success",
            "description": "",
            "description_tooltip": null,
            "layout": "IPY_MODEL_1f292ef221054670914692a4d39c73ea",
            "max": 571,
            "min": 0,
            "orientation": "horizontal",
            "style": "IPY_MODEL_a84a7261bf914a5b821beacd9cc98f5b",
            "value": 571
          }
        },
        "75d538683e414b0caf2a1a86fd9bde74": {
          "model_module": "@jupyter-widgets/controls",
          "model_name": "HTMLModel",
          "model_module_version": "1.5.0",
          "state": {
            "_dom_classes": [],
            "_model_module": "@jupyter-widgets/controls",
            "_model_module_version": "1.5.0",
            "_model_name": "HTMLModel",
            "_view_count": null,
            "_view_module": "@jupyter-widgets/controls",
            "_view_module_version": "1.5.0",
            "_view_name": "HTMLView",
            "description": "",
            "description_tooltip": null,
            "layout": "IPY_MODEL_928dfd2a03cd44178ff5fc28b6572e64",
            "placeholder": "​",
            "style": "IPY_MODEL_901fd283c22a4a9faa48e196384d2f6f",
            "value": " 571/571 [00:00&lt;00:00, 6.32kB/s]"
          }
        },
        "5bf1ef8de8144983b42de30f122023e5": {
          "model_module": "@jupyter-widgets/base",
          "model_name": "LayoutModel",
          "model_module_version": "1.2.0",
          "state": {
            "_model_module": "@jupyter-widgets/base",
            "_model_module_version": "1.2.0",
            "_model_name": "LayoutModel",
            "_view_count": null,
            "_view_module": "@jupyter-widgets/base",
            "_view_module_version": "1.2.0",
            "_view_name": "LayoutView",
            "align_content": null,
            "align_items": null,
            "align_self": null,
            "border": null,
            "bottom": null,
            "display": null,
            "flex": null,
            "flex_flow": null,
            "grid_area": null,
            "grid_auto_columns": null,
            "grid_auto_flow": null,
            "grid_auto_rows": null,
            "grid_column": null,
            "grid_gap": null,
            "grid_row": null,
            "grid_template_areas": null,
            "grid_template_columns": null,
            "grid_template_rows": null,
            "height": null,
            "justify_content": null,
            "justify_items": null,
            "left": null,
            "margin": null,
            "max_height": null,
            "max_width": null,
            "min_height": null,
            "min_width": null,
            "object_fit": null,
            "object_position": null,
            "order": null,
            "overflow": null,
            "overflow_x": null,
            "overflow_y": null,
            "padding": null,
            "right": null,
            "top": null,
            "visibility": null,
            "width": null
          }
        },
        "571c78d0dd5f411ab52f41c339032537": {
          "model_module": "@jupyter-widgets/base",
          "model_name": "LayoutModel",
          "model_module_version": "1.2.0",
          "state": {
            "_model_module": "@jupyter-widgets/base",
            "_model_module_version": "1.2.0",
            "_model_name": "LayoutModel",
            "_view_count": null,
            "_view_module": "@jupyter-widgets/base",
            "_view_module_version": "1.2.0",
            "_view_name": "LayoutView",
            "align_content": null,
            "align_items": null,
            "align_self": null,
            "border": null,
            "bottom": null,
            "display": null,
            "flex": null,
            "flex_flow": null,
            "grid_area": null,
            "grid_auto_columns": null,
            "grid_auto_flow": null,
            "grid_auto_rows": null,
            "grid_column": null,
            "grid_gap": null,
            "grid_row": null,
            "grid_template_areas": null,
            "grid_template_columns": null,
            "grid_template_rows": null,
            "height": null,
            "justify_content": null,
            "justify_items": null,
            "left": null,
            "margin": null,
            "max_height": null,
            "max_width": null,
            "min_height": null,
            "min_width": null,
            "object_fit": null,
            "object_position": null,
            "order": null,
            "overflow": null,
            "overflow_x": null,
            "overflow_y": null,
            "padding": null,
            "right": null,
            "top": null,
            "visibility": null,
            "width": null
          }
        },
        "4ffe42ace0134a7bb1ce39555686b88a": {
          "model_module": "@jupyter-widgets/controls",
          "model_name": "DescriptionStyleModel",
          "model_module_version": "1.5.0",
          "state": {
            "_model_module": "@jupyter-widgets/controls",
            "_model_module_version": "1.5.0",
            "_model_name": "DescriptionStyleModel",
            "_view_count": null,
            "_view_module": "@jupyter-widgets/base",
            "_view_module_version": "1.2.0",
            "_view_name": "StyleView",
            "description_width": ""
          }
        },
        "1f292ef221054670914692a4d39c73ea": {
          "model_module": "@jupyter-widgets/base",
          "model_name": "LayoutModel",
          "model_module_version": "1.2.0",
          "state": {
            "_model_module": "@jupyter-widgets/base",
            "_model_module_version": "1.2.0",
            "_model_name": "LayoutModel",
            "_view_count": null,
            "_view_module": "@jupyter-widgets/base",
            "_view_module_version": "1.2.0",
            "_view_name": "LayoutView",
            "align_content": null,
            "align_items": null,
            "align_self": null,
            "border": null,
            "bottom": null,
            "display": null,
            "flex": null,
            "flex_flow": null,
            "grid_area": null,
            "grid_auto_columns": null,
            "grid_auto_flow": null,
            "grid_auto_rows": null,
            "grid_column": null,
            "grid_gap": null,
            "grid_row": null,
            "grid_template_areas": null,
            "grid_template_columns": null,
            "grid_template_rows": null,
            "height": null,
            "justify_content": null,
            "justify_items": null,
            "left": null,
            "margin": null,
            "max_height": null,
            "max_width": null,
            "min_height": null,
            "min_width": null,
            "object_fit": null,
            "object_position": null,
            "order": null,
            "overflow": null,
            "overflow_x": null,
            "overflow_y": null,
            "padding": null,
            "right": null,
            "top": null,
            "visibility": null,
            "width": null
          }
        },
        "a84a7261bf914a5b821beacd9cc98f5b": {
          "model_module": "@jupyter-widgets/controls",
          "model_name": "ProgressStyleModel",
          "model_module_version": "1.5.0",
          "state": {
            "_model_module": "@jupyter-widgets/controls",
            "_model_module_version": "1.5.0",
            "_model_name": "ProgressStyleModel",
            "_view_count": null,
            "_view_module": "@jupyter-widgets/base",
            "_view_module_version": "1.2.0",
            "_view_name": "StyleView",
            "bar_color": null,
            "description_width": ""
          }
        },
        "928dfd2a03cd44178ff5fc28b6572e64": {
          "model_module": "@jupyter-widgets/base",
          "model_name": "LayoutModel",
          "model_module_version": "1.2.0",
          "state": {
            "_model_module": "@jupyter-widgets/base",
            "_model_module_version": "1.2.0",
            "_model_name": "LayoutModel",
            "_view_count": null,
            "_view_module": "@jupyter-widgets/base",
            "_view_module_version": "1.2.0",
            "_view_name": "LayoutView",
            "align_content": null,
            "align_items": null,
            "align_self": null,
            "border": null,
            "bottom": null,
            "display": null,
            "flex": null,
            "flex_flow": null,
            "grid_area": null,
            "grid_auto_columns": null,
            "grid_auto_flow": null,
            "grid_auto_rows": null,
            "grid_column": null,
            "grid_gap": null,
            "grid_row": null,
            "grid_template_areas": null,
            "grid_template_columns": null,
            "grid_template_rows": null,
            "height": null,
            "justify_content": null,
            "justify_items": null,
            "left": null,
            "margin": null,
            "max_height": null,
            "max_width": null,
            "min_height": null,
            "min_width": null,
            "object_fit": null,
            "object_position": null,
            "order": null,
            "overflow": null,
            "overflow_x": null,
            "overflow_y": null,
            "padding": null,
            "right": null,
            "top": null,
            "visibility": null,
            "width": null
          }
        },
        "901fd283c22a4a9faa48e196384d2f6f": {
          "model_module": "@jupyter-widgets/controls",
          "model_name": "DescriptionStyleModel",
          "model_module_version": "1.5.0",
          "state": {
            "_model_module": "@jupyter-widgets/controls",
            "_model_module_version": "1.5.0",
            "_model_name": "DescriptionStyleModel",
            "_view_count": null,
            "_view_module": "@jupyter-widgets/base",
            "_view_module_version": "1.2.0",
            "_view_name": "StyleView",
            "description_width": ""
          }
        },
        "4df722cf639f434092f69572e02477f5": {
          "model_module": "@jupyter-widgets/controls",
          "model_name": "HBoxModel",
          "model_module_version": "1.5.0",
          "state": {
            "_dom_classes": [],
            "_model_module": "@jupyter-widgets/controls",
            "_model_module_version": "1.5.0",
            "_model_name": "HBoxModel",
            "_view_count": null,
            "_view_module": "@jupyter-widgets/controls",
            "_view_module_version": "1.5.0",
            "_view_name": "HBoxView",
            "box_style": "",
            "children": [
              "IPY_MODEL_03c86b107cbc4377927f473e5557be48",
              "IPY_MODEL_6065fdbaf44d4b1c808d45bf77acd9b0",
              "IPY_MODEL_53d6f92872fd46ba934cfe81ae00a34e"
            ],
            "layout": "IPY_MODEL_aa10373165a449abaacc039c4ae5dfca"
          }
        },
        "03c86b107cbc4377927f473e5557be48": {
          "model_module": "@jupyter-widgets/controls",
          "model_name": "HTMLModel",
          "model_module_version": "1.5.0",
          "state": {
            "_dom_classes": [],
            "_model_module": "@jupyter-widgets/controls",
            "_model_module_version": "1.5.0",
            "_model_name": "HTMLModel",
            "_view_count": null,
            "_view_module": "@jupyter-widgets/controls",
            "_view_module_version": "1.5.0",
            "_view_name": "HTMLView",
            "description": "",
            "description_tooltip": null,
            "layout": "IPY_MODEL_7b64d64dad3f475887b63045798ddaa2",
            "placeholder": "​",
            "style": "IPY_MODEL_dc1de516309643d18b44f2cbb96e443f",
            "value": "Downloading model.safetensors: 100%"
          }
        },
        "6065fdbaf44d4b1c808d45bf77acd9b0": {
          "model_module": "@jupyter-widgets/controls",
          "model_name": "FloatProgressModel",
          "model_module_version": "1.5.0",
          "state": {
            "_dom_classes": [],
            "_model_module": "@jupyter-widgets/controls",
            "_model_module_version": "1.5.0",
            "_model_name": "FloatProgressModel",
            "_view_count": null,
            "_view_module": "@jupyter-widgets/controls",
            "_view_module_version": "1.5.0",
            "_view_name": "ProgressView",
            "bar_style": "success",
            "description": "",
            "description_tooltip": null,
            "layout": "IPY_MODEL_0ed1a35cb85643039312f41109e6e725",
            "max": 1344951957,
            "min": 0,
            "orientation": "horizontal",
            "style": "IPY_MODEL_f57f8a880cb54087a90a8ece6400605d",
            "value": 1344951957
          }
        },
        "53d6f92872fd46ba934cfe81ae00a34e": {
          "model_module": "@jupyter-widgets/controls",
          "model_name": "HTMLModel",
          "model_module_version": "1.5.0",
          "state": {
            "_dom_classes": [],
            "_model_module": "@jupyter-widgets/controls",
            "_model_module_version": "1.5.0",
            "_model_name": "HTMLModel",
            "_view_count": null,
            "_view_module": "@jupyter-widgets/controls",
            "_view_module_version": "1.5.0",
            "_view_name": "HTMLView",
            "description": "",
            "description_tooltip": null,
            "layout": "IPY_MODEL_762c17f4d14540cbb60ba110daac362e",
            "placeholder": "​",
            "style": "IPY_MODEL_7b2e57b8d2a84c99b5adfcdbd9093950",
            "value": " 1.34G/1.34G [00:14&lt;00:00, 123MB/s]"
          }
        },
        "aa10373165a449abaacc039c4ae5dfca": {
          "model_module": "@jupyter-widgets/base",
          "model_name": "LayoutModel",
          "model_module_version": "1.2.0",
          "state": {
            "_model_module": "@jupyter-widgets/base",
            "_model_module_version": "1.2.0",
            "_model_name": "LayoutModel",
            "_view_count": null,
            "_view_module": "@jupyter-widgets/base",
            "_view_module_version": "1.2.0",
            "_view_name": "LayoutView",
            "align_content": null,
            "align_items": null,
            "align_self": null,
            "border": null,
            "bottom": null,
            "display": null,
            "flex": null,
            "flex_flow": null,
            "grid_area": null,
            "grid_auto_columns": null,
            "grid_auto_flow": null,
            "grid_auto_rows": null,
            "grid_column": null,
            "grid_gap": null,
            "grid_row": null,
            "grid_template_areas": null,
            "grid_template_columns": null,
            "grid_template_rows": null,
            "height": null,
            "justify_content": null,
            "justify_items": null,
            "left": null,
            "margin": null,
            "max_height": null,
            "max_width": null,
            "min_height": null,
            "min_width": null,
            "object_fit": null,
            "object_position": null,
            "order": null,
            "overflow": null,
            "overflow_x": null,
            "overflow_y": null,
            "padding": null,
            "right": null,
            "top": null,
            "visibility": null,
            "width": null
          }
        },
        "7b64d64dad3f475887b63045798ddaa2": {
          "model_module": "@jupyter-widgets/base",
          "model_name": "LayoutModel",
          "model_module_version": "1.2.0",
          "state": {
            "_model_module": "@jupyter-widgets/base",
            "_model_module_version": "1.2.0",
            "_model_name": "LayoutModel",
            "_view_count": null,
            "_view_module": "@jupyter-widgets/base",
            "_view_module_version": "1.2.0",
            "_view_name": "LayoutView",
            "align_content": null,
            "align_items": null,
            "align_self": null,
            "border": null,
            "bottom": null,
            "display": null,
            "flex": null,
            "flex_flow": null,
            "grid_area": null,
            "grid_auto_columns": null,
            "grid_auto_flow": null,
            "grid_auto_rows": null,
            "grid_column": null,
            "grid_gap": null,
            "grid_row": null,
            "grid_template_areas": null,
            "grid_template_columns": null,
            "grid_template_rows": null,
            "height": null,
            "justify_content": null,
            "justify_items": null,
            "left": null,
            "margin": null,
            "max_height": null,
            "max_width": null,
            "min_height": null,
            "min_width": null,
            "object_fit": null,
            "object_position": null,
            "order": null,
            "overflow": null,
            "overflow_x": null,
            "overflow_y": null,
            "padding": null,
            "right": null,
            "top": null,
            "visibility": null,
            "width": null
          }
        },
        "dc1de516309643d18b44f2cbb96e443f": {
          "model_module": "@jupyter-widgets/controls",
          "model_name": "DescriptionStyleModel",
          "model_module_version": "1.5.0",
          "state": {
            "_model_module": "@jupyter-widgets/controls",
            "_model_module_version": "1.5.0",
            "_model_name": "DescriptionStyleModel",
            "_view_count": null,
            "_view_module": "@jupyter-widgets/base",
            "_view_module_version": "1.2.0",
            "_view_name": "StyleView",
            "description_width": ""
          }
        },
        "0ed1a35cb85643039312f41109e6e725": {
          "model_module": "@jupyter-widgets/base",
          "model_name": "LayoutModel",
          "model_module_version": "1.2.0",
          "state": {
            "_model_module": "@jupyter-widgets/base",
            "_model_module_version": "1.2.0",
            "_model_name": "LayoutModel",
            "_view_count": null,
            "_view_module": "@jupyter-widgets/base",
            "_view_module_version": "1.2.0",
            "_view_name": "LayoutView",
            "align_content": null,
            "align_items": null,
            "align_self": null,
            "border": null,
            "bottom": null,
            "display": null,
            "flex": null,
            "flex_flow": null,
            "grid_area": null,
            "grid_auto_columns": null,
            "grid_auto_flow": null,
            "grid_auto_rows": null,
            "grid_column": null,
            "grid_gap": null,
            "grid_row": null,
            "grid_template_areas": null,
            "grid_template_columns": null,
            "grid_template_rows": null,
            "height": null,
            "justify_content": null,
            "justify_items": null,
            "left": null,
            "margin": null,
            "max_height": null,
            "max_width": null,
            "min_height": null,
            "min_width": null,
            "object_fit": null,
            "object_position": null,
            "order": null,
            "overflow": null,
            "overflow_x": null,
            "overflow_y": null,
            "padding": null,
            "right": null,
            "top": null,
            "visibility": null,
            "width": null
          }
        },
        "f57f8a880cb54087a90a8ece6400605d": {
          "model_module": "@jupyter-widgets/controls",
          "model_name": "ProgressStyleModel",
          "model_module_version": "1.5.0",
          "state": {
            "_model_module": "@jupyter-widgets/controls",
            "_model_module_version": "1.5.0",
            "_model_name": "ProgressStyleModel",
            "_view_count": null,
            "_view_module": "@jupyter-widgets/base",
            "_view_module_version": "1.2.0",
            "_view_name": "StyleView",
            "bar_color": null,
            "description_width": ""
          }
        },
        "762c17f4d14540cbb60ba110daac362e": {
          "model_module": "@jupyter-widgets/base",
          "model_name": "LayoutModel",
          "model_module_version": "1.2.0",
          "state": {
            "_model_module": "@jupyter-widgets/base",
            "_model_module_version": "1.2.0",
            "_model_name": "LayoutModel",
            "_view_count": null,
            "_view_module": "@jupyter-widgets/base",
            "_view_module_version": "1.2.0",
            "_view_name": "LayoutView",
            "align_content": null,
            "align_items": null,
            "align_self": null,
            "border": null,
            "bottom": null,
            "display": null,
            "flex": null,
            "flex_flow": null,
            "grid_area": null,
            "grid_auto_columns": null,
            "grid_auto_flow": null,
            "grid_auto_rows": null,
            "grid_column": null,
            "grid_gap": null,
            "grid_row": null,
            "grid_template_areas": null,
            "grid_template_columns": null,
            "grid_template_rows": null,
            "height": null,
            "justify_content": null,
            "justify_items": null,
            "left": null,
            "margin": null,
            "max_height": null,
            "max_width": null,
            "min_height": null,
            "min_width": null,
            "object_fit": null,
            "object_position": null,
            "order": null,
            "overflow": null,
            "overflow_x": null,
            "overflow_y": null,
            "padding": null,
            "right": null,
            "top": null,
            "visibility": null,
            "width": null
          }
        },
        "7b2e57b8d2a84c99b5adfcdbd9093950": {
          "model_module": "@jupyter-widgets/controls",
          "model_name": "DescriptionStyleModel",
          "model_module_version": "1.5.0",
          "state": {
            "_model_module": "@jupyter-widgets/controls",
            "_model_module_version": "1.5.0",
            "_model_name": "DescriptionStyleModel",
            "_view_count": null,
            "_view_module": "@jupyter-widgets/base",
            "_view_module_version": "1.2.0",
            "_view_name": "StyleView",
            "description_width": ""
          }
        }
      }
    }
  },
  "nbformat": 4,
  "nbformat_minor": 0
}