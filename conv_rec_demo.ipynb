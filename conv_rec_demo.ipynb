{
 "cells": [
  {
   "cell_type": "code",
   "execution_count": 1,
   "metadata": {},
   "outputs": [
    {
     "name": "stdout",
     "output_type": "stream",
     "text": [
      "Note: you may need to restart the kernel to use updated packages.\n"
     ]
    },
    {
     "name": "stderr",
     "output_type": "stream",
     "text": [
      "ERROR: Could not open requirements file: [Errno 2] No such file or directory: '../requirements.txt'\n",
      "\n",
      "[notice] A new release of pip available: 22.3.1 -> 23.1.2\n",
      "[notice] To update, run: python.exe -m pip install --upgrade pip\n"
     ]
    }
   ],
   "source": [
    "%pip install -r ../requirements.txt"
   ]
  },
  {
   "cell_type": "code",
   "execution_count": 4,
   "metadata": {},
   "outputs": [
    {
     "name": "stdout",
     "output_type": "stream",
     "text": [
      "%PYTHONPATH%\n"
     ]
    }
   ],
   "source": [
    "echo %PYTHONPATH%"
   ]
  },
  {
   "cell_type": "code",
   "execution_count": 5,
   "metadata": {},
   "outputs": [
    {
     "name": "stderr",
     "output_type": "stream",
     "text": [
      "c:\\Users\\chanm\\Documents\\GitHub\\llm-convrec\\venv\\lib\\site-packages\\tqdm\\auto.py:21: TqdmWarning: IProgress not found. Please update jupyter and ipywidgets. See https://ipywidgets.readthedocs.io/en/stable/user_install.html\n",
      "  from .autonotebook import tqdm as notebook_tqdm\n"
     ]
    },
    {
     "name": "stdout",
     "output_type": "stream",
     "text": [
      "Running on local URL:  http://127.0.0.1:7860\n",
      "\n",
      "To create a public link, set `share=True` in `launch()`.\n"
     ]
    },
    {
     "data": {
      "text/html": [
       "<div><iframe src=\"http://127.0.0.1:7860/\" width=\"100%\" height=\"500\" allow=\"autoplay; camera; microphone; clipboard-read; clipboard-write;\" frameborder=\"0\" allowfullscreen></iframe></div>"
      ],
      "text/plain": [
       "<IPython.core.display.HTML object>"
      ]
     },
     "metadata": {},
     "output_type": "display_data"
    }
   ],
   "source": [
    "import gradio as gr\n",
    "def select_param(selected_llm, selected_topk_item):\n",
    "  global llm\n",
    "  llm = selected_llm\n",
    "  global topk_item\n",
    "  topk_item = selected_topk_item\n",
    "\n",
    "demo = gr.Interface(fn=select_param, inputs=[gr.Dropdown(\n",
    "            [\"GPT\", \"Alpaca Lora\"], label=\"Please choose LLM\", info=\"It's a lot better to use GPT but if you don't want to get openai api key, you can use Alpaca Lora.\"\n",
    "        ), gr.Number(\n",
    "            value=2, label=\"Please choose the number of items per recommendation\", info=\"Minimum value is 1. Please type in an integer\", precision=0, minimum=1\n",
    "        )], outputs=None, title=\"Set parameters\"\n",
    "    )\n",
    "\n",
    "if __name__ == \"__main__\":\n",
    "    demo.launch()"
   ]
  },
  {
   "cell_type": "code",
   "execution_count": 3,
   "metadata": {},
   "outputs": [
    {
     "name": "stdout",
     "output_type": "stream",
     "text": [
      "env: PYTHONPATH=C:/Users/chanm/Documents/GitHub/llm-convrec\n",
      "Running on local URL:  http://127.0.0.1:7862\n",
      "\n",
      "To create a public link, set `share=True` in `launch()`.\n"
     ]
    },
    {
     "data": {
      "text/html": [
       "<div><iframe src=\"http://127.0.0.1:7862/\" width=\"100%\" height=\"500\" allow=\"autoplay; camera; microphone; clipboard-read; clipboard-write;\" frameborder=\"0\" allowfullscreen></iframe></div>"
      ],
      "text/plain": [
       "<IPython.core.display.HTML object>"
      ]
     },
     "metadata": {},
     "output_type": "display_data"
    }
   ],
   "source": [
    "%env PYTHONPATH=C:/Users/chanm/Documents/GitHub/llm-convrec\n",
    "\n",
    "import gradio as gr\n",
    "import yaml\n",
    "import time\n",
    "from demo.conv_rec_demo_system import ConvRecDemoSystem\n",
    "\n",
    "with open(\"config.yaml\") as f:\n",
    "        config = yaml.load(f, Loader=yaml.FullLoader)\n",
    "conv_rec_demo_system = ConvRecDemoSystem(config)\n",
    "\n",
    "with gr.Blocks() as demo:\n",
    "\n",
    "    with gr.Row():\n",
    "        with gr.Column(scale=5):\n",
    "            gr.Markdown(\"# LLM Convrec\")\n",
    "            with gr.Row():\n",
    "                chat_history = gr.Chatbot(value=[[None, \"Hi there! I'm a restaurant recommender.\"]], show_label=False)\n",
    "            with gr.Row(equal_height=True):\n",
    "                with gr.Column(scale=10):\n",
    "                    user_input = gr.Textbox(show_label=False, placeholder=\"Enter text\", container=False)\n",
    "                with gr.Column(min_width=70, scale=1):\n",
    "                    submit_button = gr.Button(value=\"Send\")\n",
    "                with gr.Column(min_width=70, scale=2):\n",
    "                    new_conv_button = gr.Button(value=\"New Conversation\")\n",
    "\n",
    "    def display_user_input(user_message, history):\n",
    "        return \"\", history + [[user_message, None]]\n",
    "\n",
    "    def display_recommender_response(history):\n",
    "        bot_message = conv_rec_demo_system.respond_to_user(history[-1][0])\n",
    "        history[-1][1] = \"\"\n",
    "        for character in bot_message:\n",
    "            history[-1][1] += character\n",
    "            time.sleep(0.015)\n",
    "            yield history\n",
    "\n",
    "    def reset_state():\n",
    "      return \"\", [[None, \"Hi there! I'm a restaurant recommender.\"]]\n",
    "\n",
    "    user_input.submit(\n",
    "        fn=display_user_input, inputs=[user_input, chat_history], outputs=[user_input, chat_history], queue=False).then(\n",
    "            fn=display_recommender_response, inputs=chat_history, outputs=chat_history)\n",
    "    submit_button.click(\n",
    "        fn=display_user_input, inputs=[user_input, chat_history], outputs=[user_input, chat_history], queue=False).then(\n",
    "            fn=display_recommender_response, inputs=chat_history, outputs=chat_history)\n",
    "    new_conv_button.click(\n",
    "        fn=reset_state, inputs=None, outputs=[user_input, chat_history])\n",
    "\n",
    "\n",
    "if __name__ == \"__main__\":\n",
    "    demo.queue()\n",
    "    demo.launch()"
   ]
  }
 ],
 "metadata": {
  "kernelspec": {
   "display_name": "venv",
   "language": "python",
   "name": "python3"
  },
  "language_info": {
   "codemirror_mode": {
    "name": "ipython",
    "version": 3
   },
   "file_extension": ".py",
   "mimetype": "text/x-python",
   "name": "python",
   "nbconvert_exporter": "python",
   "pygments_lexer": "ipython3",
   "version": "3.10.10"
  },
  "orig_nbformat": 4
 },
 "nbformat": 4,
 "nbformat_minor": 2
}
